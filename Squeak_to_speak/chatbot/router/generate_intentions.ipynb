{
 "cells": [
  {
   "cell_type": "code",
   "execution_count": 23,
   "metadata": {},
   "outputs": [],
   "source": [
    "from pydantic import BaseModel, Field\n",
    "from langchain.output_parsers import PydanticOutputParser\n",
    "from langchain_core.prompts import PromptTemplate\n",
    "from langchain_openai import ChatOpenAI\n",
    "from dotenv import load_dotenv"
   ]
  },
  {
   "cell_type": "code",
   "execution_count": 24,
   "metadata": {},
   "outputs": [
    {
     "data": {
      "text/plain": [
       "True"
      ]
     },
     "execution_count": 24,
     "metadata": {},
     "output_type": "execute_result"
    }
   ],
   "source": [
    "load_dotenv()"
   ]
  },
  {
   "cell_type": "markdown",
   "metadata": {},
   "source": [
    "Aux functions to save synthetic data"
   ]
  },
  {
   "cell_type": "code",
   "execution_count": 25,
   "metadata": {},
   "outputs": [],
   "source": [
    "from auxiliar import add_messages"
   ]
  },
  {
   "cell_type": "code",
   "execution_count": 26,
   "metadata": {},
   "outputs": [],
   "source": [
    "class SyntheticUserMessage(BaseModel):\n",
    "\n",
    "    message: str = Field(\n",
    "        ...,\n",
    "        title=\"Message\",\n",
    "        description=\"The user message to generate for the target task intention.\",\n",
    "    )\n",
    "\n",
    "\n",
    "class ListSyntheticUserMessages(BaseModel):\n",
    "\n",
    "    messages: list[SyntheticUserMessage] = Field(\n",
    "        ...,\n",
    "        title=\"Messages\",\n",
    "        description=\"The list of synthetic user messages to generate for the target task intention.\",\n",
    "    )\n",
    "\n",
    "output_parser = PydanticOutputParser(pydantic_object=ListSyntheticUserMessages)"
   ]
  },
  {
   "cell_type": "code",
   "execution_count": 27,
   "metadata": {},
   "outputs": [],
   "source": [
    "system_prompt = \"\"\"\n",
    "You are tasked with generating synthetic user messages for an e-commerce platform called Cobuy, which specializes in electronics and gadgets.\n",
    "\n",
    "The user intentions are:\n",
    "{user_intentions}\n",
    "\n",
    "Your task is to create {k} distinct messages for the following target task intention:\n",
    "{target_task_intention}\n",
    "\n",
    "Specific information about the target task intention:\n",
    "{target_task_intention_description}\n",
    "\n",
    "Follow these guidelines:\n",
    "1. Focus exclusively on the target task intention, ensuring the message is relevant.\n",
    "2. Each message should be between 5 and 20 words.\n",
    "3. Avoid including any details or references to other user intentions.\n",
    "4. Ensure the messages sound natural and typical of user queries for the given intention.\n",
    "5. Follow the provided format strictly to maintain consistency.\n",
    "\n",
    "Message format:\n",
    "{format_instructions}\n",
    "\"\"\"\n",
    "\n",
    "prompt = PromptTemplate(\n",
    "    template=system_prompt,\n",
    "    input_variables=[\"k\", \"user_intentions\", \"target_task_intention\" \"target_task_intention_description\", \"format_instructions\"],\n",
    "    partial_variables={\"format_instructions\": output_parser.get_format_instructions()},\n",
    ")"
   ]
  },
  {
   "cell_type": "code",
   "execution_count": 28,
   "metadata": {},
   "outputs": [],
   "source": [
    "llm = ChatOpenAI(temperature=0.0, model=\"gpt-4o-mini\")\n",
    "\n",
    "user_intentions =  [\n",
    "            'find_therapist',\n",
    "            'find_support_group',\n",
    "            'find_hotline',\n",
    "            'habit_alternatives',\n",
    "            'insert_journal',\n",
    "            'delete_journal',\n",
    "            'update_journal',\n",
    "            'view_journal',\n",
    "            'insert_mood',\n",
    "            'delete_mood',\n",
    "            'update_mood',\n",
    "            'view_mood',\n",
    "            'insert_gratitude',\n",
    "            'ask_missionvalues',\n",
    "            'ask_features',\n",
    "            'review_user_memory',\n",
    "            'chat_about_journal'\n",
    "        ]\n",
    "k = 50 # Number of synthetic user messages to generate for each target task intention\n",
    "\n",
    "file_name = \"synthetic_intetions.json\"\n",
    "\n",
    "synthetic_data_chain = prompt | llm | output_parser"
   ]
  },
  {
   "cell_type": "markdown",
   "metadata": {},
   "source": [
    "## Intention Description"
   ]
  },
  {
   "cell_type": "code",
   "execution_count": 29,
   "metadata": {},
   "outputs": [],
   "source": [
    "intentions = {\n",
    "    \"find_therapist\": \"The user may start the message with 'Help me find a therapist that...'. The user wants to receive a personalized recommendation for a healthcare professional. To do so, they provide details about their mental health needs, preferences, monetary limitations, and location. They may ask for therapists, counselors, or other mental health specialists that align with their specific requirements.\",\n",
    "    \"find_support_group\": \"The user may start the message with 'Help me find a support group that...'. The user wants to find support groups in their vicinity. They provide information about their location and topics of interest (e.g., anxiety, grief, or addiction). They may ask about meeting times, formats (online or in-person), and how to join these groups.\",\n",
    "    \"find_hotline\": \"The user may start the message with 'Help me find a hotline that...'. The user wants to access the contact information for emergency or non-emergency hotlines. They may specify whether they need immediate crisis support, general counseling services, or specialized hotlines for issues like abuse or mental health crises.\",\n",
    "    \"habit_alternatives\": \"The user may start the message with 'Suggest an alternative for'. The user wants to find a healthier or more sustainable alternative to a habit they currently have. They describe the habit they wish to change, and the chatbot suggests actionable, practical alternatives based on the user's preferences and situation.\",\n",
    "    \"insert_journal\": \"The user may start the message with 'I want to add to my journal today: …'. The user wants to record their thoughts, feelings, or reflections by making an entry in their journal. They may provide a text entry describing their emotions or experiences and optionally indicate the type of mood or topic for the entry.\",\n",
    "    \"delete_journal\": \"The user may start the message with 'Delete my journal entry on…'. The user wants to delete an existing entry in their journal. They provide details about which entry to delete, and the chatbot confirms the deletion.\",\n",
    "    \"update_journal\": \"The user may start the message with 'I want to change a journal entry'. The user wants to modify an existing entry in their journal. They provide details about which entry to update and describe the changes they want to make, such as editing the text or changing the mood associated with the entry.\",\n",
    "    \"view_journal\": \"The user may start the message with 'How was my day on…'. The user wants to view past entries in their journal. They may specify a date range or keywords to filter the entries they want to review.\",\n",
    "    \"insert_mood\": \"The user may start the message with 'Today, I feel...'. The user wants to record their current mood or feelings by making an entry in their mood board. They may provide a text entry describing their emotions or experiences and optionally indicate the type of mood or topic for the entry.\",\n",
    "    \"delete_mood\": \"The user may start the message with 'Delete my mood on...'. The user wants to delete an existing entry in their mood board. They provide details about which entry to delete, and the chatbot confirms the deletion.\",\n",
    "    \"update_mood\": \"The user may start the message with 'I want to change my mood...'. The user wants to modify an existing entry in their mood board. They provide details about which entry to update and describe the changes they want to make, such as editing the text or changing the mood associated with the entry.\",\n",
    "    \"view_mood\": \"The user may start the message with 'How did I feel on...'. The user wants to view past entries in their mood board. They may specify a date range or keywords to filter the entries they want to review.\",\n",
    "    \"insert_gratitude\": \"The user may start the message with 'I am grateful for..'. The user wants to contribute a message of gratitude or positivity to the community gratitude banner. They provide an anonymous text entry expressing something they are grateful for or a moment of joy they want to share with others.\",\n",
    "    \"ask_missionvalues\": \"The user may start the message with 'Tell me about Squeak to Speak'. The user wants to learn about the mission, vision, and values of Squeak to Speak. They may ask about the organization's goals, the story behind its creation, or its commitment to mental health and user privacy.\",\n",
    "    \"ask_features\": \"The user may start the message with 'Tell me about your chatbot'. The user wants an overview of the features and functionalities of Squeak to Speak. They may ask how the chatbot can assist with their mental health, what tools are available, or how they can benefit from using the platform.\",\n",
    "    \"review_user_memory\": \"The user may start the message with 'What data do you have on me?'. The user wants to review the data that Squeak to Speak has collected about them. They may ask to see their stored preferences, previous interactions, or journal entries, and they expect transparency about the information being stored.\",\n",
    "    \"chat_about_journal\": \"The user may start the message with 'I want to talk about how I felt on…'. The user wants to engage in a conversation with the chatbot, leveraging the knowledge of their past journal entries. They expect the chatbot to incorporate insights from their journal to provide more personalized and context-aware responses.\"\n",
    "}"
   ]
  },
  {
   "cell_type": "markdown",
   "metadata": {},
   "source": [
    "## Intention Creation"
   ]
  },
  {
   "cell_type": "code",
   "execution_count": 30,
   "metadata": {},
   "outputs": [],
   "source": [
    "def process_intentions(intentions, synthetic_data_chain):\n",
    "    flat_results = []\n",
    "    message_id = 1  # To keep track of unique IDs\n",
    "    \n",
    "    for intention, description in intentions.items():\n",
    "        response = synthetic_data_chain.invoke({\n",
    "            \"k\": intention,\n",
    "            \"user_intentions\": intentions,\n",
    "            \"target_task_intention\": intention,\n",
    "            \"target_task_intention_description\": description\n",
    "        })\n",
    "        \n",
    "        for message in response.messages:\n",
    "            flat_results.append({\n",
    "                \"Intention\": intention,\n",
    "                \"Message\": message.message,\n",
    "                \"Id\": message_id\n",
    "            })\n",
    "            message_id += 1  # Increment the ID for each message\n",
    "    \n",
    "    return flat_results\n"
   ]
  },
  {
   "cell_type": "code",
   "execution_count": null,
   "metadata": {},
   "outputs": [],
   "source": [
    "results = process_intentions(intentions, synthetic_data_chain)\n",
    "add_messages(results, file_name)"
   ]
  },
  {
   "cell_type": "markdown",
   "metadata": {},
   "source": [
    "# No Intention: None"
   ]
  },
  {
   "cell_type": "code",
   "execution_count": 19,
   "metadata": {},
   "outputs": [],
   "source": [
    "system_prompt = \"\"\"\n",
    "You are tasked with generating synthetic user messages.\n",
    "\n",
    "The user intentions are:\n",
    "{user_intentions}\n",
    "\n",
    "Your task is to create {k} distinct messages completely unrelated to the available user intentions.\n",
    "These messages should be generic and not related to any specific task or intention.\n",
    "The user is engaging in casual conversation.\n",
    "The user might ask general questions, share opinions, or express emotions. \n",
    "The user might also ask for totaly none related questions to the platform. \n",
    "The user might ask general questions, share opinions, or express emotions.\n",
    "\n",
    "Follow these guidelines:\n",
    "1. Focus exclusively on not being related to any of the user intentions.\n",
    "2. Each message should be between 5 and 20 words.\n",
    "3. Avoid including any details or references to other user intentions.\n",
    "4. Ensure the messages sound natural and typical of user queries for the given intention.\n",
    "5. Follow the provided format strictly to maintain consistency.\n",
    "\n",
    "Message format:\n",
    "{format_instructions}\n",
    "\"\"\""
   ]
  },
  {
   "cell_type": "code",
   "execution_count": 20,
   "metadata": {},
   "outputs": [],
   "source": [
    "prompt = PromptTemplate(\n",
    "    template=system_prompt,\n",
    "    input_variables=[\"k\", \"user_intentions\"],\n",
    "    partial_variables={\"format_instructions\": output_parser.get_format_instructions()},\n",
    ")\n",
    "\n",
    "synthetic_data_chain = prompt | llm | output_parser"
   ]
  },
  {
   "cell_type": "code",
   "execution_count": 21,
   "metadata": {},
   "outputs": [],
   "source": [
    "response = synthetic_data_chain.invoke({\"k\": 1, \"user_intentions\": user_intentions})\n",
    "\n",
    "none_related_messages = []\n",
    "\n",
    "for message in response.messages:\n",
    "    none_related_messages.append({\"Intention\":\"None\", \"Message\":message.message})"
   ]
  },
  {
   "cell_type": "code",
   "execution_count": 22,
   "metadata": {},
   "outputs": [],
   "source": [
    "add_messages(none_related_messages, file_name)"
   ]
  }
 ],
 "metadata": {
  "kernelspec": {
   "display_name": "Python 3",
   "language": "python",
   "name": "python3"
  },
  "language_info": {
   "codemirror_mode": {
    "name": "ipython",
    "version": 3
   },
   "file_extension": ".py",
   "mimetype": "text/x-python",
   "name": "python",
   "nbconvert_exporter": "python",
   "pygments_lexer": "ipython3",
   "version": "3.10.11"
  }
 },
 "nbformat": 4,
 "nbformat_minor": 2
}
