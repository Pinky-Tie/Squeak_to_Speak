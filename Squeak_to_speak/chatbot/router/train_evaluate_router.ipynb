{
 "cells": [
  {
   "cell_type": "code",
   "execution_count": 52,
   "metadata": {},
   "outputs": [],
   "source": [
    "from semantic_router import Route\n",
    "from semantic_router.encoders import OpenAIEncoder, HuggingFaceEncoder\n",
    "from semantic_router import RouteLayer\n",
    "import pandas as pd"
   ]
  },
  {
   "cell_type": "code",
   "execution_count": 53,
   "metadata": {},
   "outputs": [],
   "source": [
    "# Load the dataframes json files\n",
    "df_synthetic = pd.read_json(\"synthetic_intetions.json\")\n",
    "\n",
    "X_syn = df_synthetic[['Id','Message']]\n",
    "y_syn = df_synthetic['Intention'].to_list()"
   ]
  },
  {
   "cell_type": "code",
   "execution_count": 54,
   "metadata": {},
   "outputs": [
    {
     "data": {
      "text/plain": [
       "['rec_therapist',\n",
       " 'rec_therapist',\n",
       " 'rec_therapist',\n",
       " 'rec_therapist',\n",
       " 'rec_therapist',\n",
       " 'rec_therapist',\n",
       " 'rec_therapist',\n",
       " 'rec_therapist',\n",
       " 'rec_therapist',\n",
       " 'rec_therapist',\n",
       " 'rec_group',\n",
       " 'rec_group',\n",
       " 'rec_group',\n",
       " 'rec_group',\n",
       " 'rec_group',\n",
       " 'rec_group',\n",
       " 'rec_group',\n",
       " 'rec_group',\n",
       " 'rec_group',\n",
       " 'rec_group',\n",
       " 'rec_hotline',\n",
       " 'rec_hotline',\n",
       " 'rec_hotline',\n",
       " 'rec_hotline',\n",
       " 'rec_hotline',\n",
       " 'rec_hotline',\n",
       " 'rec_hotline',\n",
       " 'rec_hotline',\n",
       " 'rec_hotline',\n",
       " 'rec_hotline',\n",
       " 'alt_habit',\n",
       " 'alt_habit',\n",
       " 'alt_habit',\n",
       " 'alt_habit',\n",
       " 'alt_habit',\n",
       " 'alt_habit',\n",
       " 'alt_habit',\n",
       " 'alt_habit',\n",
       " 'alt_habit',\n",
       " 'alt_habit',\n",
       " 'entry_journal_mood',\n",
       " 'entry_journal_mood',\n",
       " 'entry_journal_mood',\n",
       " 'entry_journal_mood',\n",
       " 'entry_journal_mood',\n",
       " 'entry_journal_mood',\n",
       " 'entry_journal_mood',\n",
       " 'entry_journal_mood',\n",
       " 'entry_journal_mood',\n",
       " 'entry_journal_mood',\n",
       " 'entry_banner',\n",
       " 'entry_banner',\n",
       " 'entry_banner',\n",
       " 'entry_banner',\n",
       " 'entry_banner',\n",
       " 'entry_banner',\n",
       " 'entry_banner',\n",
       " 'entry_banner',\n",
       " 'entry_banner',\n",
       " 'entry_banner',\n",
       " 'know_mission',\n",
       " 'know_mission',\n",
       " 'know_mission',\n",
       " 'know_mission',\n",
       " 'know_mission',\n",
       " 'know_mission',\n",
       " 'know_mission',\n",
       " 'know_mission',\n",
       " 'know_mission',\n",
       " 'know_mission',\n",
       " 'know_services',\n",
       " 'know_services',\n",
       " 'know_services',\n",
       " 'know_services',\n",
       " 'know_services',\n",
       " 'know_services',\n",
       " 'know_services',\n",
       " 'know_services',\n",
       " 'know_services',\n",
       " 'know_services',\n",
       " 'know_data',\n",
       " 'know_data',\n",
       " 'know_data',\n",
       " 'know_data',\n",
       " 'know_data',\n",
       " 'know_data',\n",
       " 'know_data',\n",
       " 'know_data',\n",
       " 'know_data',\n",
       " 'know_data',\n",
       " 'alter_entry',\n",
       " 'alter_entry',\n",
       " 'alter_entry',\n",
       " 'alter_entry',\n",
       " 'alter_entry',\n",
       " 'alter_entry',\n",
       " 'alter_entry',\n",
       " 'alter_entry',\n",
       " 'alter_entry',\n",
       " 'alter_entry',\n",
       " 'recall_entry',\n",
       " 'recall_entry',\n",
       " 'recall_entry',\n",
       " 'recall_entry',\n",
       " 'recall_entry',\n",
       " 'recall_entry',\n",
       " 'recall_entry',\n",
       " 'recall_entry',\n",
       " 'recall_entry',\n",
       " 'recall_entry',\n",
       " 'None']"
      ]
     },
     "execution_count": 54,
     "metadata": {},
     "output_type": "execute_result"
    }
   ],
   "source": [
    "y_syn"
   ]
  },
  {
   "cell_type": "code",
   "execution_count": 55,
   "metadata": {},
   "outputs": [],
   "source": [
    "from sklearn.model_selection import train_test_split\n",
    "\n",
    "# Split the dataset with stratification\n",
    "X_train, X_test, y_train, y_test = train_test_split(\n",
    "    X_syn, y_syn, test_size=0.1, random_state=0\n",
    ")"
   ]
  },
  {
   "cell_type": "code",
   "execution_count": 56,
   "metadata": {},
   "outputs": [],
   "source": [
    "# Replace \"None\" with None\n",
    "y_train = [None if i == \"None\" else i for i in y_train]\n",
    "y_test = [None if i == \"None\" else i for i in y_test]"
   ]
  },
  {
   "cell_type": "code",
   "execution_count": 57,
   "metadata": {},
   "outputs": [],
   "source": [
    "# Initialize lists for each intention\n",
    "rec_therapist_messages = []\n",
    "rec_group_messages = []\n",
    "rec_hotline_messages = []\n",
    "alt_habit_messages = []\n",
    "entry_journal_mood_messages = []\n",
    "entry_banner_messages = []\n",
    "know_mission_messages = []\n",
    "know_services_messages = []\n",
    "know_data_messages = []\n",
    "alter_entry_messages = []\n",
    "recall_entry_messages = []\n",
    "\n",
    "# Categorize messages based on labels\n",
    "for message, label in zip(X_train[\"Message\"], y_train):\n",
    "    if label == \"rec_therapist\":\n",
    "        rec_therapist_messages.append(message)\n",
    "    elif label == \"rec_group\":\n",
    "        rec_group_messages.append(message)\n",
    "    elif label == \"rec_hotline\":\n",
    "        rec_hotline_messages.append(message)\n",
    "    elif label == \"alt_habit\":\n",
    "        alt_habit_messages.append(message)\n",
    "    elif label == \"entry_journal_mood\":\n",
    "        entry_journal_mood_messages.append(message)\n",
    "    elif label == \"entry_banner\":\n",
    "        entry_banner_messages.append(message)\n",
    "    elif label == \"know_mission\":\n",
    "        know_mission_messages.append(message)\n",
    "    elif label == \"know_services\":\n",
    "        know_services_messages.append(message)\n",
    "    elif label == \"know_data\":\n",
    "        know_data_messages.append(message)\n",
    "    elif label == \"alter_entry\":\n",
    "        alter_entry_messages.append(message)\n",
    "    elif label == \"recall_entry\":\n",
    "        recall_entry_messages.append(message)\n",
    "\n",
    "# Define routes for each intention\n",
    "rec_therapist = Route(\n",
    "    name=\"rec_therapist\",\n",
    "    description=\"The user wants to receive a personalized recommendation for a healthcare professional.\",\n",
    "    utterances=rec_therapist_messages,\n",
    ")\n",
    "\n",
    "rec_group = Route(\n",
    "    name=\"rec_group\",\n",
    "    description=\"The user wants to find support groups in their vicinity.\",\n",
    "    utterances=rec_group_messages,\n",
    ")\n",
    "\n",
    "rec_hotline = Route(\n",
    "    name=\"rec_hotline\",\n",
    "    description=\"The user wants to access the contact information for emergency or non-emergency hotlines.\",\n",
    "    utterances=rec_hotline_messages,\n",
    ")\n",
    "\n",
    "alt_habit = Route(\n",
    "    name=\"alt_habit\",\n",
    "    description=\"The user wants to find a healthier or more sustainable alternative to a habit they currently have.\",\n",
    "    utterances=alt_habit_messages,\n",
    ")\n",
    "\n",
    "entry_journal_mood = Route(\n",
    "    name=\"entry_journal_mood\",\n",
    "    description=\"The user wants to record their thoughts, feelings, or reflections by making an entry in their journal or mood board.\",\n",
    "    utterances=entry_journal_mood_messages,\n",
    ")\n",
    "\n",
    "entry_banner = Route(\n",
    "    name=\"entry_banner\",\n",
    "    description=\"The user wants to contribute a message of gratitude or positivity to the community gratitude banner.\",\n",
    "    utterances=entry_banner_messages,\n",
    ")\n",
    "\n",
    "know_mission = Route(\n",
    "    name=\"know_mission\",\n",
    "    description=\"The user wants to learn about the mission, vision, and values of Squeak to Speak.\",\n",
    "    utterances=know_mission_messages,\n",
    ")\n",
    "\n",
    "know_services = Route(\n",
    "    name=\"know_services\",\n",
    "    description=\"The user wants an overview of the features and functionalities of Squeak to Speak.\",\n",
    "    utterances=know_services_messages,\n",
    ")\n",
    "\n",
    "know_data = Route(\n",
    "    name=\"know_data\",\n",
    "    description=\"The user wants to review the data that Squeak to Speak has collected about them.\",\n",
    "    utterances=know_data_messages,\n",
    ")\n",
    "\n",
    "alter_entry = Route(\n",
    "    name=\"alter_entry\",\n",
    "    description=\"The user wants to modify an existing entry in their journal or mood board.\",\n",
    "    utterances=alter_entry_messages,\n",
    ")\n",
    "\n",
    "recall_entry = Route(\n",
    "    name=\"recall_entry\",\n",
    "    description=\"The user wants to engage in a conversation with the chatbot, leveraging the knowledge of their past journal entries.\",\n",
    "    utterances=recall_entry_messages,\n",
    ")\n"
   ]
  },
  {
   "cell_type": "code",
   "execution_count": 58,
   "metadata": {},
   "outputs": [
    {
     "name": "stderr",
     "output_type": "stream",
     "text": [
      "C:\\Users\\pedro\\AppData\\Local\\Packages\\PythonSoftwareFoundation.Python.3.10_qbz5n2kfra8p0\\LocalCache\\local-packages\\Python310\\site-packages\\huggingface_hub\\file_download.py:1142: FutureWarning: `resume_download` is deprecated and will be removed in version 1.0.0. Downloads always resume when possible. If you want to force a new download, use `force_download=True`.\n",
      "  warnings.warn(\n"
     ]
    }
   ],
   "source": [
    "routes = [\n",
    "    rec_therapist,\n",
    "    rec_group,\n",
    "    rec_hotline,\n",
    "    alt_habit,\n",
    "    entry_journal_mood,\n",
    "    entry_banner,\n",
    "    know_mission,\n",
    "    know_services,\n",
    "    know_data,\n",
    "    alter_entry,\n",
    "    recall_entry,\n",
    "]\n",
    "encoder = HuggingFaceEncoder()"
   ]
  },
  {
   "cell_type": "code",
   "execution_count": 59,
   "metadata": {},
   "outputs": [],
   "source": [
    "hf_rl = RouteLayer(encoder=encoder, routes=routes) #aggregation = \"mean\", \"max\" or \"sum\". #top_k = 5"
   ]
  },
  {
   "cell_type": "code",
   "execution_count": 60,
   "metadata": {},
   "outputs": [
    {
     "name": "stderr",
     "output_type": "stream",
     "text": [
      "Generating embeddings: 100%|██████████| 1/1 [00:00<00:00,  2.03it/s]\n",
      "Training: 100%|██████████| 500/500 [00:40<00:00, 12.47it/s, acc=0.92]\n"
     ]
    }
   ],
   "source": [
    "# Call the fit method\n",
    "hf_rl.fit(X=X_train[\"Message\"].to_list(), y=y_train, max_iter=500)"
   ]
  },
  {
   "cell_type": "code",
   "execution_count": 61,
   "metadata": {},
   "outputs": [
    {
     "name": "stderr",
     "output_type": "stream",
     "text": [
      "Generating embeddings: 100%|██████████| 1/1 [00:00<00:00, 10.98it/s]"
     ]
    },
    {
     "name": "stdout",
     "output_type": "stream",
     "text": [
      "Accuracy: 83.33%\n"
     ]
    },
    {
     "name": "stderr",
     "output_type": "stream",
     "text": [
      "\n"
     ]
    }
   ],
   "source": [
    "accuracy = hf_rl.evaluate(X=X_test[\"Message\"].to_list(), y=y_test)\n",
    "print(f\"Accuracy: {accuracy*100:.2f}%\")"
   ]
  },
  {
   "cell_type": "code",
   "execution_count": 62,
   "metadata": {},
   "outputs": [
    {
     "name": "stderr",
     "output_type": "stream",
     "text": [
      "\u001b[32m2024-12-29 16:15:29 INFO semantic_router.utils.logger Saving route config to layer.json\u001b[0m\n"
     ]
    }
   ],
   "source": [
    "hf_rl.to_json(\"layer.json\")"
   ]
  },
  {
   "cell_type": "code",
   "execution_count": null,
   "metadata": {},
   "outputs": [],
   "source": []
  }
 ],
 "metadata": {
  "kernelspec": {
   "display_name": "Python 3",
   "language": "python",
   "name": "python3"
  },
  "language_info": {
   "codemirror_mode": {
    "name": "ipython",
    "version": 3
   },
   "file_extension": ".py",
   "mimetype": "text/x-python",
   "name": "python",
   "nbconvert_exporter": "python",
   "pygments_lexer": "ipython3",
   "version": "3.10.11"
  }
 },
 "nbformat": 4,
 "nbformat_minor": 2
}
