{
 "cells": [
  {
   "cell_type": "code",
   "execution_count": 1,
   "metadata": {},
   "outputs": [],
   "source": [
    "from semantic_router import Route\n",
    "from semantic_router.encoders import OpenAIEncoder, HuggingFaceEncoder\n",
    "from semantic_router import RouteLayer\n",
    "import pandas as pd"
   ]
  },
  {
   "cell_type": "code",
   "execution_count": 2,
   "metadata": {},
   "outputs": [],
   "source": [
    "# Load the dataframes json files\n",
    "df_synthetic = pd.read_json(\"synthetic_intetions.json\")\n",
    "\n",
    "X_syn = df_synthetic[['Id','Message']]\n",
    "y_syn = df_synthetic['Intention'].to_list()"
   ]
  },
  {
   "cell_type": "code",
   "execution_count": 3,
   "metadata": {},
   "outputs": [
    {
     "data": {
      "text/plain": [
       "['find_therapist',\n",
       " 'find_therapist',\n",
       " 'find_therapist',\n",
       " 'find_therapist',\n",
       " 'find_therapist',\n",
       " 'find_therapist',\n",
       " 'find_therapist',\n",
       " 'find_therapist',\n",
       " 'find_therapist',\n",
       " 'find_therapist',\n",
       " 'find_support_group',\n",
       " 'find_support_group',\n",
       " 'find_support_group',\n",
       " 'find_support_group',\n",
       " 'find_support_group',\n",
       " 'find_support_group',\n",
       " 'find_support_group',\n",
       " 'find_support_group',\n",
       " 'find_support_group',\n",
       " 'find_support_group',\n",
       " 'find_hotline',\n",
       " 'find_hotline',\n",
       " 'find_hotline',\n",
       " 'find_hotline',\n",
       " 'find_hotline',\n",
       " 'find_hotline',\n",
       " 'find_hotline',\n",
       " 'find_hotline',\n",
       " 'find_hotline',\n",
       " 'find_hotline',\n",
       " 'habit_alternatives',\n",
       " 'habit_alternatives',\n",
       " 'habit_alternatives',\n",
       " 'habit_alternatives',\n",
       " 'habit_alternatives',\n",
       " 'habit_alternatives',\n",
       " 'habit_alternatives',\n",
       " 'habit_alternatives',\n",
       " 'habit_alternatives',\n",
       " 'habit_alternatives',\n",
       " 'insert_journal',\n",
       " 'insert_journal',\n",
       " 'insert_journal',\n",
       " 'insert_journal',\n",
       " 'insert_journal',\n",
       " 'insert_journal',\n",
       " 'insert_journal',\n",
       " 'insert_journal',\n",
       " 'insert_journal',\n",
       " 'insert_journal',\n",
       " 'delete_journal',\n",
       " 'delete_journal',\n",
       " 'delete_journal',\n",
       " 'delete_journal',\n",
       " 'delete_journal',\n",
       " 'delete_journal',\n",
       " 'delete_journal',\n",
       " 'delete_journal',\n",
       " 'delete_journal',\n",
       " 'delete_journal',\n",
       " 'update_journal',\n",
       " 'update_journal',\n",
       " 'update_journal',\n",
       " 'update_journal',\n",
       " 'update_journal',\n",
       " 'update_journal',\n",
       " 'update_journal',\n",
       " 'update_journal',\n",
       " 'update_journal',\n",
       " 'update_journal',\n",
       " 'view_journal',\n",
       " 'view_journal',\n",
       " 'view_journal',\n",
       " 'view_journal',\n",
       " 'view_journal',\n",
       " 'view_journal',\n",
       " 'view_journal',\n",
       " 'view_journal',\n",
       " 'view_journal',\n",
       " 'view_journal',\n",
       " 'insert_mood',\n",
       " 'insert_mood',\n",
       " 'insert_mood',\n",
       " 'insert_mood',\n",
       " 'insert_mood',\n",
       " 'insert_mood',\n",
       " 'insert_mood',\n",
       " 'insert_mood',\n",
       " 'insert_mood',\n",
       " 'insert_mood',\n",
       " 'delete_mood',\n",
       " 'delete_mood',\n",
       " 'delete_mood',\n",
       " 'delete_mood',\n",
       " 'delete_mood',\n",
       " 'delete_mood',\n",
       " 'delete_mood',\n",
       " 'delete_mood',\n",
       " 'delete_mood',\n",
       " 'delete_mood',\n",
       " 'delete_mood',\n",
       " 'delete_mood',\n",
       " 'delete_mood',\n",
       " 'delete_mood',\n",
       " 'delete_mood',\n",
       " 'delete_mood',\n",
       " 'delete_mood',\n",
       " 'delete_mood',\n",
       " 'delete_mood',\n",
       " 'delete_mood',\n",
       " 'delete_mood',\n",
       " 'update_mood',\n",
       " 'update_mood',\n",
       " 'update_mood',\n",
       " 'update_mood',\n",
       " 'update_mood',\n",
       " 'update_mood',\n",
       " 'update_mood',\n",
       " 'update_mood',\n",
       " 'update_mood',\n",
       " 'update_mood',\n",
       " 'view_mood',\n",
       " 'view_mood',\n",
       " 'view_mood',\n",
       " 'view_mood',\n",
       " 'view_mood',\n",
       " 'view_mood',\n",
       " 'view_mood',\n",
       " 'view_mood',\n",
       " 'view_mood',\n",
       " 'view_mood',\n",
       " 'insert_gratitude',\n",
       " 'insert_gratitude',\n",
       " 'insert_gratitude',\n",
       " 'insert_gratitude',\n",
       " 'insert_gratitude',\n",
       " 'insert_gratitude',\n",
       " 'insert_gratitude',\n",
       " 'insert_gratitude',\n",
       " 'insert_gratitude',\n",
       " 'insert_gratitude',\n",
       " 'ask_missionvalues',\n",
       " 'ask_missionvalues',\n",
       " 'ask_missionvalues',\n",
       " 'ask_missionvalues',\n",
       " 'ask_missionvalues',\n",
       " 'ask_missionvalues',\n",
       " 'ask_missionvalues',\n",
       " 'ask_missionvalues',\n",
       " 'ask_missionvalues',\n",
       " 'ask_missionvalues',\n",
       " 'ask_features',\n",
       " 'ask_features',\n",
       " 'ask_features',\n",
       " 'ask_features',\n",
       " 'ask_features',\n",
       " 'ask_features',\n",
       " 'ask_features',\n",
       " 'ask_features',\n",
       " 'ask_features',\n",
       " 'ask_features',\n",
       " 'review_user_memory',\n",
       " 'review_user_memory',\n",
       " 'review_user_memory',\n",
       " 'review_user_memory',\n",
       " 'review_user_memory',\n",
       " 'review_user_memory',\n",
       " 'review_user_memory',\n",
       " 'review_user_memory',\n",
       " 'review_user_memory',\n",
       " 'review_user_memory',\n",
       " 'chat_about_journal',\n",
       " 'chat_about_journal',\n",
       " 'chat_about_journal',\n",
       " 'chat_about_journal',\n",
       " 'chat_about_journal',\n",
       " 'chat_about_journal',\n",
       " 'chat_about_journal',\n",
       " 'chat_about_journal',\n",
       " 'chat_about_journal',\n",
       " 'chat_about_journal',\n",
       " 'None',\n",
       " 'None',\n",
       " 'None',\n",
       " 'None',\n",
       " 'None']"
      ]
     },
     "execution_count": 3,
     "metadata": {},
     "output_type": "execute_result"
    }
   ],
   "source": [
    "y_syn"
   ]
  },
  {
   "cell_type": "code",
   "execution_count": 4,
   "metadata": {},
   "outputs": [],
   "source": [
    "from sklearn.model_selection import train_test_split\n",
    "\n",
    "# Split the dataset with stratification\n",
    "X_train, X_test, y_train, y_test = train_test_split(\n",
    "    X_syn, y_syn, test_size=0.2, random_state=0\n",
    ")"
   ]
  },
  {
   "cell_type": "code",
   "execution_count": 5,
   "metadata": {},
   "outputs": [],
   "source": [
    "# Replace \"None\" with None\n",
    "y_train = [None if i == \"None\" else i for i in y_train]\n",
    "y_test = [None if i == \"None\" else i for i in y_test]"
   ]
  },
  {
   "cell_type": "code",
   "execution_count": 6,
   "metadata": {},
   "outputs": [],
   "source": [
    "# Initialize lists for each intention\n",
    "find_therapist_messages = []\n",
    "find_support_group_messages = []\n",
    "find_hotline_messages = []\n",
    "habit_alternatives_messages = []\n",
    "insert_mood_messages = []\n",
    "insert_journal_messages = []\n",
    "insert_gratitude_messages = []\n",
    "ask_missionvalues_messages = []\n",
    "ask_features_messages = []\n",
    "review_user_memory_messages = []\n",
    "update_journal_messages = []\n",
    "update_mood_messages = []\n",
    "view_journal_messages = []\n",
    "view_mood_messages = []\n",
    "delete_journal_messages = []\n",
    "delete_mood_messages = []\n",
    "chat_about_journal_messages = []\n",
    "gratitude_messages = []\n",
    "\n",
    "# Categorize messages based on labels\n",
    "for message, label in zip(X_train[\"Message\"], y_train):\n",
    "    if label == \"find_therapist\":\n",
    "        find_therapist_messages.append(message)\n",
    "    elif label == \"find_support_group\":\n",
    "        find_support_group_messages.append(message)\n",
    "    elif label == \"find_hotline\":\n",
    "        find_hotline_messages.append(message)\n",
    "    elif label == \"habit_alternatives\":\n",
    "        habit_alternatives_messages.append(message)\n",
    "    elif label == \"insert_mood\":\n",
    "        insert_mood_messages.append(message)\n",
    "    elif label == \"insert_journal\":\n",
    "        insert_journal_messages.append(message)\n",
    "    elif label == \"insert_gratitude\":\n",
    "        insert_gratitude_messages.append(message)\n",
    "    elif label == \"ask_missionvalues\":\n",
    "        ask_missionvalues_messages.append(message)\n",
    "    elif label == \"ask_features\":\n",
    "        ask_features_messages.append(message)\n",
    "    elif label == \"review_user_memory\":\n",
    "        review_user_memory_messages.append(message)\n",
    "    elif label == \"update_journal\":\n",
    "        update_journal_messages.append(message)\n",
    "    elif label == \"update_mood\":\n",
    "        update_mood_messages.append(message)\n",
    "    elif label == \"view_journal\":\n",
    "        view_journal_messages.append(message)\n",
    "    elif label == \"view_mood\":\n",
    "        view_mood_messages.append(message)\n",
    "    elif label == \"delete_journal\":\n",
    "        delete_journal_messages.append(message)\n",
    "    elif label == \"delete_mood\":\n",
    "        delete_mood_messages.append(message)\n",
    "    elif label == \"chat_about_journal\":\n",
    "        chat_about_journal_messages.append(message)\n",
    "    elif label == \"entry_gratitude\":\n",
    "        gratitude_messages.append(message)    \n",
    "\n",
    "# Define routes for each intention\n",
    "find_therapist = Route(\n",
    "    name=\"find_therapist\",\n",
    "    description=\"The user wants to receive a personalized recommendation for a healthcare professional.\",\n",
    "    utterances=find_therapist_messages,\n",
    ")\n",
    "\n",
    "find_support_group = Route(\n",
    "    name=\"find_support_group\",\n",
    "    description=\"The user wants to find support groups in their vicinity.\",\n",
    "    utterances=find_support_group_messages,\n",
    ")\n",
    "\n",
    "find_hotline = Route(\n",
    "    name=\"find_hotline\",\n",
    "    description=\"The user wants to access the contact information for emergency or non-emergency hotlines.\",\n",
    "    utterances=find_hotline_messages,\n",
    ")\n",
    "\n",
    "habit_alternatives = Route(\n",
    "    name=\"habit_alternatives\",\n",
    "    description=\"The user wants to find a healthier or more sustainable alternative to a habit they currently have.\",\n",
    "    utterances=habit_alternatives_messages,\n",
    ")\n",
    "\n",
    "insert_mood = Route(\n",
    "    name=\"insert_mood\",\n",
    "    description=\"The user wants to record their thoughts, feelings, or reflections by making an entry in their journal or mood board.\",\n",
    "    utterances=insert_mood_messages,\n",
    ")\n",
    "\n",
    "insert_journal = Route(\n",
    "    name=\"insert_journal\",\n",
    "    description=\"The user wants to contribute a message of gratitude or positivity to the community gratitude banner.\",\n",
    "    utterances=insert_journal_messages,\n",
    ")\n",
    "\n",
    "insert_gratitude = Route(\n",
    "    name=\"insert_gratitude\",\n",
    "    description=\"The user wants to contribute a message of gratitude or positivity to the community gratitude banner.\",\n",
    "    utterances=insert_gratitude_messages,\n",
    ")\n",
    "\n",
    "ask_missionvalues = Route(\n",
    "    name=\"ask_missionvalues\",\n",
    "    description=\"The user wants to learn about the mission, vision, and values of Squeak to Speak.\",\n",
    "    utterances=ask_missionvalues_messages,\n",
    ")\n",
    "\n",
    "ask_features = Route(\n",
    "    name=\"ask_features\",\n",
    "    description=\"The user wants an overview of the features and functionalities of Squeak to Speak.\",\n",
    "    utterances=ask_features_messages,\n",
    ")\n",
    "\n",
    "review_user_memory = Route(\n",
    "    name=\"review_user_memory\",\n",
    "    description=\"The user wants to review the data that Squeak to Speak has collected about them.\",\n",
    "    utterances=review_user_memory_messages,\n",
    ")\n",
    "\n",
    "update_journal = Route(\n",
    "    name=\"update_journal\",\n",
    "    description=\"The user wants to modify an existing entry in their journal or mood board.\",\n",
    "    utterances=update_journal_messages,\n",
    ")\n",
    "\n",
    "update_mood = Route(\n",
    "    name=\"update_mood\",\n",
    "    description=\"The user wants to modify an existing entry in their mood board.\",\n",
    "    utterances=update_mood_messages,\n",
    ")\n",
    "\n",
    "view_journal = Route(\n",
    "    name=\"view_journal\",\n",
    "    description=\"The user wants to view past entries in their journal.\",\n",
    "    utterances=view_journal_messages,\n",
    ")\n",
    "\n",
    "view_mood = Route(\n",
    "    name=\"view_mood\",\n",
    "    description=\"The user wants to view past entries in their mood board.\",\n",
    "    utterances=view_mood_messages,\n",
    ")\n",
    "\n",
    "delete_journal = Route(\n",
    "    name=\"delete_journal\",\n",
    "    description=\"The user wants to delete an existing entry in their journal.\",\n",
    "    utterances=delete_journal_messages,\n",
    ")\n",
    "\n",
    "delete_mood = Route(\n",
    "    name=\"delete_mood\",\n",
    "    description=\"The user wants to delete an existing entry in their mood board.\",\n",
    "    utterances=delete_mood_messages,\n",
    ")\n",
    "\n",
    "chat_about_journal = Route(\n",
    "    name=\"chat_about_journal\",\n",
    "    description=\"The user wants to engage in a conversation with the chatbot, leveraging the knowledge of their past journal entries.\",\n",
    "    utterances=chat_about_journal_messages,\n",
    ")"
   ]
  },
  {
   "cell_type": "code",
   "execution_count": 7,
   "metadata": {},
   "outputs": [],
   "source": [
    "routes = [\n",
    "    review_user_memory,\n",
    "    find_therapist,\n",
    "    find_support_group,\n",
    "    find_hotline,\n",
    "    habit_alternatives,\n",
    "    insert_mood,\n",
    "    insert_journal,\n",
    "    insert_gratitude,\n",
    "    ask_missionvalues,\n",
    "    ask_features,\n",
    "    review_user_memory,\n",
    "    update_journal,\n",
    "    update_mood,\n",
    "    view_journal,\n",
    "    view_mood,\n",
    "    delete_journal,\n",
    "    delete_mood,\n",
    "    chat_about_journal\n",
    "]\n",
    "encoder = HuggingFaceEncoder()"
   ]
  },
  {
   "cell_type": "code",
   "execution_count": 8,
   "metadata": {},
   "outputs": [],
   "source": [
    "hf_rl = RouteLayer(encoder=encoder, routes=routes) #aggregation = \"mean\", \"max\" or \"sum\". #top_k = 5"
   ]
  },
  {
   "cell_type": "code",
   "execution_count": 9,
   "metadata": {},
   "outputs": [
    {
     "data": {
      "application/vnd.jupyter.widget-view+json": {
       "model_id": "6225f79273e54975a86206307eef9650",
       "version_major": 2,
       "version_minor": 0
      },
      "text/plain": [
       "Generating embeddings:   0%|          | 0/1 [00:00<?, ?it/s]"
      ]
     },
     "metadata": {},
     "output_type": "display_data"
    },
    {
     "data": {
      "application/vnd.jupyter.widget-view+json": {
       "model_id": "a28c5402dfb64c3ebfa1e2198d58f91d",
       "version_major": 2,
       "version_minor": 0
      },
      "text/plain": [
       "Training:   0%|          | 0/500 [00:00<?, ?it/s]"
      ]
     },
     "metadata": {},
     "output_type": "display_data"
    }
   ],
   "source": [
    "# Call the fit method\n",
    "hf_rl.fit(X=X_train[\"Message\"].to_list(), y=y_train, max_iter=500)"
   ]
  },
  {
   "cell_type": "code",
   "execution_count": 12,
   "metadata": {},
   "outputs": [
    {
     "data": {
      "application/vnd.jupyter.widget-view+json": {
       "model_id": "8370ba1244e64ca1a9f1675c6805c137",
       "version_major": 2,
       "version_minor": 0
      },
      "text/plain": [
       "Generating embeddings:   0%|          | 0/1 [00:00<?, ?it/s]"
      ]
     },
     "metadata": {},
     "output_type": "display_data"
    },
    {
     "data": {
      "application/vnd.jupyter.widget-view+json": {
       "model_id": "b977ca7916ce48e09384001ec4a9190e",
       "version_major": 2,
       "version_minor": 0
      },
      "text/plain": [
       "Generating embeddings:   0%|          | 0/1 [00:00<?, ?it/s]"
      ]
     },
     "metadata": {},
     "output_type": "display_data"
    },
    {
     "data": {
      "application/vnd.jupyter.widget-view+json": {
       "model_id": "fad73d367c0e4a26a317a7825c08292d",
       "version_major": 2,
       "version_minor": 0
      },
      "text/plain": [
       "Generating embeddings:   0%|          | 0/1 [00:00<?, ?it/s]"
      ]
     },
     "metadata": {},
     "output_type": "display_data"
    },
    {
     "data": {
      "application/vnd.jupyter.widget-view+json": {
       "model_id": "2333deff3358401fb3206f2263294524",
       "version_major": 2,
       "version_minor": 0
      },
      "text/plain": [
       "Generating embeddings:   0%|          | 0/1 [00:00<?, ?it/s]"
      ]
     },
     "metadata": {},
     "output_type": "display_data"
    },
    {
     "data": {
      "application/vnd.jupyter.widget-view+json": {
       "model_id": "9df134ed1a414932921c4615ee152cde",
       "version_major": 2,
       "version_minor": 0
      },
      "text/plain": [
       "Generating embeddings:   0%|          | 0/1 [00:00<?, ?it/s]"
      ]
     },
     "metadata": {},
     "output_type": "display_data"
    },
    {
     "data": {
      "application/vnd.jupyter.widget-view+json": {
       "model_id": "42326ca2fc5e44e99af75f8851353e53",
       "version_major": 2,
       "version_minor": 0
      },
      "text/plain": [
       "Generating embeddings:   0%|          | 0/1 [00:00<?, ?it/s]"
      ]
     },
     "metadata": {},
     "output_type": "display_data"
    },
    {
     "data": {
      "application/vnd.jupyter.widget-view+json": {
       "model_id": "6648b4b87e8d4a14bddf87d40f8e2570",
       "version_major": 2,
       "version_minor": 0
      },
      "text/plain": [
       "Generating embeddings:   0%|          | 0/1 [00:00<?, ?it/s]"
      ]
     },
     "metadata": {},
     "output_type": "display_data"
    },
    {
     "data": {
      "application/vnd.jupyter.widget-view+json": {
       "model_id": "6ae4bf0700b64642a9d55d7fad78de94",
       "version_major": 2,
       "version_minor": 0
      },
      "text/plain": [
       "Generating embeddings:   0%|          | 0/1 [00:00<?, ?it/s]"
      ]
     },
     "metadata": {},
     "output_type": "display_data"
    },
    {
     "data": {
      "application/vnd.jupyter.widget-view+json": {
       "model_id": "7be79e41a0ee470591c29ab13443862d",
       "version_major": 2,
       "version_minor": 0
      },
      "text/plain": [
       "Generating embeddings:   0%|          | 0/1 [00:00<?, ?it/s]"
      ]
     },
     "metadata": {},
     "output_type": "display_data"
    },
    {
     "data": {
      "application/vnd.jupyter.widget-view+json": {
       "model_id": "2ba23ad06dee4b4c82205eb2eb936647",
       "version_major": 2,
       "version_minor": 0
      },
      "text/plain": [
       "Generating embeddings:   0%|          | 0/1 [00:00<?, ?it/s]"
      ]
     },
     "metadata": {},
     "output_type": "display_data"
    },
    {
     "data": {
      "application/vnd.jupyter.widget-view+json": {
       "model_id": "ba4532962d844e71ab5433ae735af19a",
       "version_major": 2,
       "version_minor": 0
      },
      "text/plain": [
       "Generating embeddings:   0%|          | 0/1 [00:00<?, ?it/s]"
      ]
     },
     "metadata": {},
     "output_type": "display_data"
    },
    {
     "data": {
      "application/vnd.jupyter.widget-view+json": {
       "model_id": "a73f4ff7e9eb406591d5309d752abd26",
       "version_major": 2,
       "version_minor": 0
      },
      "text/plain": [
       "Generating embeddings:   0%|          | 0/1 [00:00<?, ?it/s]"
      ]
     },
     "metadata": {},
     "output_type": "display_data"
    },
    {
     "data": {
      "application/vnd.jupyter.widget-view+json": {
       "model_id": "b21d09da841a42548241e847ffb52a40",
       "version_major": 2,
       "version_minor": 0
      },
      "text/plain": [
       "Generating embeddings:   0%|          | 0/1 [00:00<?, ?it/s]"
      ]
     },
     "metadata": {},
     "output_type": "display_data"
    },
    {
     "data": {
      "application/vnd.jupyter.widget-view+json": {
       "model_id": "4cd34169d5054388a087e79ac4e7a0c3",
       "version_major": 2,
       "version_minor": 0
      },
      "text/plain": [
       "Generating embeddings:   0%|          | 0/1 [00:00<?, ?it/s]"
      ]
     },
     "metadata": {},
     "output_type": "display_data"
    },
    {
     "data": {
      "application/vnd.jupyter.widget-view+json": {
       "model_id": "b34359fd64cf4677bce985f9356d96d1",
       "version_major": 2,
       "version_minor": 0
      },
      "text/plain": [
       "Generating embeddings:   0%|          | 0/1 [00:00<?, ?it/s]"
      ]
     },
     "metadata": {},
     "output_type": "display_data"
    },
    {
     "data": {
      "application/vnd.jupyter.widget-view+json": {
       "model_id": "d6f1c9f66fa54143af25de7b4f033fb3",
       "version_major": 2,
       "version_minor": 0
      },
      "text/plain": [
       "Generating embeddings:   0%|          | 0/1 [00:00<?, ?it/s]"
      ]
     },
     "metadata": {},
     "output_type": "display_data"
    },
    {
     "data": {
      "application/vnd.jupyter.widget-view+json": {
       "model_id": "da4d5ba50efd4e0fa406929bb0965acd",
       "version_major": 2,
       "version_minor": 0
      },
      "text/plain": [
       "Generating embeddings:   0%|          | 0/1 [00:00<?, ?it/s]"
      ]
     },
     "metadata": {},
     "output_type": "display_data"
    },
    {
     "data": {
      "application/vnd.jupyter.widget-view+json": {
       "model_id": "eb66e226231b449f876d1af26aa86093",
       "version_major": 2,
       "version_minor": 0
      },
      "text/plain": [
       "Generating embeddings:   0%|          | 0/1 [00:00<?, ?it/s]"
      ]
     },
     "metadata": {},
     "output_type": "display_data"
    },
    {
     "data": {
      "application/vnd.jupyter.widget-view+json": {
       "model_id": "49accd36f9974e62ab427d0ed641bf55",
       "version_major": 2,
       "version_minor": 0
      },
      "text/plain": [
       "Generating embeddings:   0%|          | 0/1 [00:00<?, ?it/s]"
      ]
     },
     "metadata": {},
     "output_type": "display_data"
    },
    {
     "data": {
      "application/vnd.jupyter.widget-view+json": {
       "model_id": "23a8554be9e8481fa26116d9812e0007",
       "version_major": 2,
       "version_minor": 0
      },
      "text/plain": [
       "Generating embeddings:   0%|          | 0/1 [00:00<?, ?it/s]"
      ]
     },
     "metadata": {},
     "output_type": "display_data"
    },
    {
     "data": {
      "application/vnd.jupyter.widget-view+json": {
       "model_id": "0285a2ad28834ac3993761ddebaadd1f",
       "version_major": 2,
       "version_minor": 0
      },
      "text/plain": [
       "Generating embeddings:   0%|          | 0/1 [00:00<?, ?it/s]"
      ]
     },
     "metadata": {},
     "output_type": "display_data"
    },
    {
     "data": {
      "application/vnd.jupyter.widget-view+json": {
       "model_id": "d6debe332255414ca76c40c4a59c2860",
       "version_major": 2,
       "version_minor": 0
      },
      "text/plain": [
       "Generating embeddings:   0%|          | 0/1 [00:00<?, ?it/s]"
      ]
     },
     "metadata": {},
     "output_type": "display_data"
    },
    {
     "data": {
      "application/vnd.jupyter.widget-view+json": {
       "model_id": "180adbf47f4d4d4cb0076b0ae3d18a67",
       "version_major": 2,
       "version_minor": 0
      },
      "text/plain": [
       "Generating embeddings:   0%|          | 0/1 [00:00<?, ?it/s]"
      ]
     },
     "metadata": {},
     "output_type": "display_data"
    },
    {
     "data": {
      "application/vnd.jupyter.widget-view+json": {
       "model_id": "f356c186b9494096bcf291225c13f119",
       "version_major": 2,
       "version_minor": 0
      },
      "text/plain": [
       "Generating embeddings:   0%|          | 0/1 [00:00<?, ?it/s]"
      ]
     },
     "metadata": {},
     "output_type": "display_data"
    },
    {
     "data": {
      "application/vnd.jupyter.widget-view+json": {
       "model_id": "35ad580db8794457896c0b73cddf330a",
       "version_major": 2,
       "version_minor": 0
      },
      "text/plain": [
       "Generating embeddings:   0%|          | 0/1 [00:00<?, ?it/s]"
      ]
     },
     "metadata": {},
     "output_type": "display_data"
    },
    {
     "data": {
      "application/vnd.jupyter.widget-view+json": {
       "model_id": "1332c8bb0f9d46a381f53c5c481438a6",
       "version_major": 2,
       "version_minor": 0
      },
      "text/plain": [
       "Generating embeddings:   0%|          | 0/1 [00:00<?, ?it/s]"
      ]
     },
     "metadata": {},
     "output_type": "display_data"
    },
    {
     "data": {
      "application/vnd.jupyter.widget-view+json": {
       "model_id": "30a111bf73294dddaa9d226b13da0901",
       "version_major": 2,
       "version_minor": 0
      },
      "text/plain": [
       "Generating embeddings:   0%|          | 0/1 [00:00<?, ?it/s]"
      ]
     },
     "metadata": {},
     "output_type": "display_data"
    },
    {
     "data": {
      "application/vnd.jupyter.widget-view+json": {
       "model_id": "21ad561311e34122a3834104bcd99c97",
       "version_major": 2,
       "version_minor": 0
      },
      "text/plain": [
       "Generating embeddings:   0%|          | 0/1 [00:00<?, ?it/s]"
      ]
     },
     "metadata": {},
     "output_type": "display_data"
    },
    {
     "data": {
      "application/vnd.jupyter.widget-view+json": {
       "model_id": "b8aeb81998044a238abca0aedc14647e",
       "version_major": 2,
       "version_minor": 0
      },
      "text/plain": [
       "Generating embeddings:   0%|          | 0/1 [00:00<?, ?it/s]"
      ]
     },
     "metadata": {},
     "output_type": "display_data"
    },
    {
     "data": {
      "application/vnd.jupyter.widget-view+json": {
       "model_id": "fedfebbf1f7e43e49ec1db348b5dda14",
       "version_major": 2,
       "version_minor": 0
      },
      "text/plain": [
       "Generating embeddings:   0%|          | 0/1 [00:00<?, ?it/s]"
      ]
     },
     "metadata": {},
     "output_type": "display_data"
    },
    {
     "data": {
      "application/vnd.jupyter.widget-view+json": {
       "model_id": "bc94993dca2c43418765d708cc3be52d",
       "version_major": 2,
       "version_minor": 0
      },
      "text/plain": [
       "Generating embeddings:   0%|          | 0/1 [00:00<?, ?it/s]"
      ]
     },
     "metadata": {},
     "output_type": "display_data"
    },
    {
     "data": {
      "application/vnd.jupyter.widget-view+json": {
       "model_id": "3d08e3221b834a4e80212a145b481136",
       "version_major": 2,
       "version_minor": 0
      },
      "text/plain": [
       "Generating embeddings:   0%|          | 0/1 [00:00<?, ?it/s]"
      ]
     },
     "metadata": {},
     "output_type": "display_data"
    },
    {
     "data": {
      "application/vnd.jupyter.widget-view+json": {
       "model_id": "6a33e3636ca8416b83b22d82813c59ab",
       "version_major": 2,
       "version_minor": 0
      },
      "text/plain": [
       "Generating embeddings:   0%|          | 0/1 [00:00<?, ?it/s]"
      ]
     },
     "metadata": {},
     "output_type": "display_data"
    },
    {
     "data": {
      "application/vnd.jupyter.widget-view+json": {
       "model_id": "55b4ffd4700e41b6aa4ea2e04577a32a",
       "version_major": 2,
       "version_minor": 0
      },
      "text/plain": [
       "Generating embeddings:   0%|          | 0/1 [00:00<?, ?it/s]"
      ]
     },
     "metadata": {},
     "output_type": "display_data"
    },
    {
     "data": {
      "application/vnd.jupyter.widget-view+json": {
       "model_id": "5f97b28aee914b49833b7c36882e74cf",
       "version_major": 2,
       "version_minor": 0
      },
      "text/plain": [
       "Generating embeddings:   0%|          | 0/1 [00:00<?, ?it/s]"
      ]
     },
     "metadata": {},
     "output_type": "display_data"
    },
    {
     "data": {
      "application/vnd.jupyter.widget-view+json": {
       "model_id": "5f7ec31c64d048c9af12ad6979ac3899",
       "version_major": 2,
       "version_minor": 0
      },
      "text/plain": [
       "Generating embeddings:   0%|          | 0/1 [00:00<?, ?it/s]"
      ]
     },
     "metadata": {},
     "output_type": "display_data"
    },
    {
     "data": {
      "application/vnd.jupyter.widget-view+json": {
       "model_id": "fd0502ad059548c2b40fb2d66b84d811",
       "version_major": 2,
       "version_minor": 0
      },
      "text/plain": [
       "Generating embeddings:   0%|          | 0/1 [00:00<?, ?it/s]"
      ]
     },
     "metadata": {},
     "output_type": "display_data"
    },
    {
     "data": {
      "application/vnd.jupyter.widget-view+json": {
       "model_id": "270178d1afef45e6b9eb0ad565b5ba40",
       "version_major": 2,
       "version_minor": 0
      },
      "text/plain": [
       "Generating embeddings:   0%|          | 0/1 [00:00<?, ?it/s]"
      ]
     },
     "metadata": {},
     "output_type": "display_data"
    },
    {
     "name": "stdout",
     "output_type": "stream",
     "text": [
      "Intention                Test Inputs    Correct   Incorrect Accuracy (%)   \n",
      "delete_mood              4              4         0         100.0          \n",
      "insert_journal           2              2         0         100.0          \n",
      "ask_features             2              2         0         100.0          \n",
      "update_journal           3              3         0         100.0          \n",
      "insert_gratitude         3              3         0         100.0          \n",
      "find_support_group       1              1         0         100.0          \n",
      "ask_missionvalues        2              2         0         100.0          \n",
      "find_therapist           3              3         0         100.0          \n",
      "review_user_memory       4              3         1         75.0           \n",
      "chat_about_journal       2              2         0         100.0          \n",
      "update_mood              2              2         0         100.0          \n",
      "habit_alternatives       2              1         1         50.0           \n",
      "view_mood                2              2         0         100.0          \n",
      "delete_journal           2              2         0         100.0          \n",
      "insert_mood              1              1         0         100.0          \n",
      "view_journal             1              1         0         100.0          \n",
      "find_hotline             1              1         0         100.0          \n"
     ]
    },
    {
     "ename": "TypeError",
     "evalue": "unsupported format string passed to NoneType.__format__",
     "output_type": "error",
     "traceback": [
      "\u001b[1;31m---------------------------------------------------------------------------\u001b[0m",
      "\u001b[1;31mTypeError\u001b[0m                                 Traceback (most recent call last)",
      "Cell \u001b[1;32mIn[12], line 33\u001b[0m\n\u001b[0;32m     31\u001b[0m     incorrect \u001b[38;5;241m=\u001b[39m \u001b[38;5;28mstr\u001b[39m(data[\u001b[38;5;124m'\u001b[39m\u001b[38;5;124mIncorrect\u001b[39m\u001b[38;5;124m'\u001b[39m]) \u001b[38;5;28;01mif\u001b[39;00m data[\u001b[38;5;124m'\u001b[39m\u001b[38;5;124mIncorrect\u001b[39m\u001b[38;5;124m'\u001b[39m] \u001b[38;5;129;01mis\u001b[39;00m \u001b[38;5;129;01mnot\u001b[39;00m \u001b[38;5;28;01mNone\u001b[39;00m \u001b[38;5;28;01melse\u001b[39;00m \u001b[38;5;124m'\u001b[39m\u001b[38;5;124m0\u001b[39m\u001b[38;5;124m'\u001b[39m\n\u001b[0;32m     32\u001b[0m     accuracy \u001b[38;5;241m=\u001b[39m \u001b[38;5;28mstr\u001b[39m(data[\u001b[38;5;124m'\u001b[39m\u001b[38;5;124mAccuracy (\u001b[39m\u001b[38;5;124m%\u001b[39m\u001b[38;5;124m)\u001b[39m\u001b[38;5;124m'\u001b[39m]) \u001b[38;5;28;01mif\u001b[39;00m data[\u001b[38;5;124m'\u001b[39m\u001b[38;5;124mAccuracy (\u001b[39m\u001b[38;5;124m%\u001b[39m\u001b[38;5;124m)\u001b[39m\u001b[38;5;124m'\u001b[39m] \u001b[38;5;129;01mis\u001b[39;00m \u001b[38;5;129;01mnot\u001b[39;00m \u001b[38;5;28;01mNone\u001b[39;00m \u001b[38;5;28;01melse\u001b[39;00m \u001b[38;5;124m'\u001b[39m\u001b[38;5;124m0.0\u001b[39m\u001b[38;5;124m'\u001b[39m\n\u001b[1;32m---> 33\u001b[0m     \u001b[38;5;28mprint\u001b[39m(\u001b[38;5;124mf\u001b[39m\u001b[38;5;124m\"\u001b[39m\u001b[38;5;132;01m{\u001b[39;00mintention\u001b[38;5;132;01m:\u001b[39;00m\u001b[38;5;124m<25\u001b[39m\u001b[38;5;132;01m}\u001b[39;00m\u001b[38;5;132;01m{\u001b[39;00mtest_inputs\u001b[38;5;132;01m:\u001b[39;00m\u001b[38;5;124m<15\u001b[39m\u001b[38;5;132;01m}\u001b[39;00m\u001b[38;5;132;01m{\u001b[39;00mcorrect\u001b[38;5;132;01m:\u001b[39;00m\u001b[38;5;124m<10\u001b[39m\u001b[38;5;132;01m}\u001b[39;00m\u001b[38;5;132;01m{\u001b[39;00mincorrect\u001b[38;5;132;01m:\u001b[39;00m\u001b[38;5;124m<10\u001b[39m\u001b[38;5;132;01m}\u001b[39;00m\u001b[38;5;132;01m{\u001b[39;00maccuracy\u001b[38;5;132;01m:\u001b[39;00m\u001b[38;5;124m<15\u001b[39m\u001b[38;5;132;01m}\u001b[39;00m\u001b[38;5;124m\"\u001b[39m)\n\u001b[0;32m     36\u001b[0m \u001b[38;5;66;03m# Calculate overall accuracy\u001b[39;00m\n\u001b[0;32m     37\u001b[0m total_inputs \u001b[38;5;241m=\u001b[39m \u001b[38;5;28msum\u001b[39m(data[\u001b[38;5;124m\"\u001b[39m\u001b[38;5;124mTest Inputs\u001b[39m\u001b[38;5;124m\"\u001b[39m] \u001b[38;5;28;01mfor\u001b[39;00m data \u001b[38;5;129;01min\u001b[39;00m results\u001b[38;5;241m.\u001b[39mvalues())\n",
      "\u001b[1;31mTypeError\u001b[0m: unsupported format string passed to NoneType.__format__"
     ]
    }
   ],
   "source": [
    "from collections import defaultdict\n",
    "\n",
    "\n",
    "# Initialize counters for each intention\n",
    "results = defaultdict(lambda: {\"Test Inputs\": 0, \"Correct\": 0, \"Incorrect\": 0})\n",
    "\n",
    "# Iterate through test data to manually evaluate predictions\n",
    "for message, true_label in zip(X_test[\"Message\"], y_test):\n",
    "    # Evaluate the single message to get the prediction\n",
    "    single_accuracy = hf_rl.evaluate(X=[message], y=[true_label])\n",
    "    \n",
    "    # Increment the total test inputs for the true label\n",
    "    results[true_label][\"Test Inputs\"] += 1\n",
    "    \n",
    "    # Increment correct or incorrect based on single message evaluation accuracy\n",
    "    if single_accuracy == 1.0:  # Perfect match means prediction was correct\n",
    "        results[true_label][\"Correct\"] += 1\n",
    "    else:\n",
    "        results[true_label][\"Incorrect\"] += 1\n",
    "\n",
    "# Calculate accuracy for each intention\n",
    "for intention, data in results.items():\n",
    "    data[\"Accuracy (%)\"] = round((data[\"Correct\"] / data[\"Test Inputs\"]) * 100, 2)\n",
    "\n",
    "# Display the results in table format\n",
    "print(f\"{'Intention':<25}{'Test Inputs':<15}{'Correct':<10}{'Incorrect':<10}{'Accuracy (%)':<15}\")\n",
    "\n",
    "for intention, data in results.items():\n",
    "    test_inputs = data['Test Inputs'] if data['Test Inputs'] is not None else 0\n",
    "    correct = data['Correct'] if data['Correct'] is not None else 0\n",
    "    incorrect = data['Incorrect'] if data['Incorrect'] is not None else 0\n",
    "    accuracy = data['Accuracy (%)'] if data['Accuracy (%)'] is not None else 0.0\n",
    "    print(f\"{intention:<25}{test_inputs:<15}{correct:<10}{incorrect:<10}{accuracy:<15}\")\n",
    "\n",
    "\n",
    "\n",
    "# Calculate overall accuracy\n",
    "total_inputs = sum(data[\"Test Inputs\"] for data in results.values())\n",
    "total_correct = sum(data[\"Correct\"] for data in results.values())\n",
    "overall_accuracy = round((total_correct / total_inputs) * 100, 2)\n",
    "\n",
    "print(f\"{'Average Accuracy':<25}{total_inputs:<15}{total_correct:<10}{total_inputs - total_correct:<10}{overall_accuracy:<15}\")\n",
    "\n"
   ]
  },
  {
   "cell_type": "code",
   "execution_count": 11,
   "metadata": {},
   "outputs": [
    {
     "name": "stderr",
     "output_type": "stream",
     "text": [
      "\u001b[32m2025-01-04 11:24:51 INFO semantic_router.utils.logger Saving route config to layer.json\u001b[0m\n"
     ]
    }
   ],
   "source": [
    "hf_rl.to_json(\"layer.json\")"
   ]
  }
 ],
 "metadata": {
  "kernelspec": {
   "display_name": "capstone-project",
   "language": "python",
   "name": "python3"
  },
  "language_info": {
   "codemirror_mode": {
    "name": "ipython",
    "version": 3
   },
   "file_extension": ".py",
   "mimetype": "text/x-python",
   "name": "python",
   "nbconvert_exporter": "python",
   "pygments_lexer": "ipython3",
   "version": "3.12.7"
  }
 },
 "nbformat": 4,
 "nbformat_minor": 2
}
