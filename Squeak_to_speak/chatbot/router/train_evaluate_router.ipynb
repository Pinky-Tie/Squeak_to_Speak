{
 "cells": [
  {
   "cell_type": "code",
   "execution_count": 1,
   "metadata": {},
   "outputs": [],
   "source": [
    "from semantic_router import Route\n",
    "from semantic_router.encoders import OpenAIEncoder, HuggingFaceEncoder\n",
    "from semantic_router import RouteLayer\n",
    "import pandas as pd"
   ]
  },
  {
   "cell_type": "code",
   "execution_count": 2,
   "metadata": {},
   "outputs": [],
   "source": [
    "# Load the dataframes json files\n",
    "df_synthetic = pd.read_json(\"synthetic_intetions.json\")\n",
    "\n",
    "X_syn = df_synthetic[['Id','Message']]\n",
    "y_syn = df_synthetic['Intention'].to_list()"
   ]
  },
  {
   "cell_type": "code",
   "execution_count": 3,
   "metadata": {},
   "outputs": [
    {
     "data": {
      "text/plain": [
       "['find_therapist',\n",
       " 'find_therapist',\n",
       " 'find_therapist',\n",
       " 'find_therapist',\n",
       " 'find_therapist',\n",
       " 'find_therapist',\n",
       " 'find_therapist',\n",
       " 'find_therapist',\n",
       " 'find_therapist',\n",
       " 'find_therapist',\n",
       " 'find_support_group',\n",
       " 'find_support_group',\n",
       " 'find_support_group',\n",
       " 'find_support_group',\n",
       " 'find_support_group',\n",
       " 'find_support_group',\n",
       " 'find_support_group',\n",
       " 'find_support_group',\n",
       " 'find_support_group',\n",
       " 'find_support_group',\n",
       " 'find_hotline',\n",
       " 'find_hotline',\n",
       " 'find_hotline',\n",
       " 'find_hotline',\n",
       " 'find_hotline',\n",
       " 'find_hotline',\n",
       " 'find_hotline',\n",
       " 'find_hotline',\n",
       " 'find_hotline',\n",
       " 'find_hotline',\n",
       " 'habit_alternatives',\n",
       " 'habit_alternatives',\n",
       " 'habit_alternatives',\n",
       " 'habit_alternatives',\n",
       " 'habit_alternatives',\n",
       " 'habit_alternatives',\n",
       " 'habit_alternatives',\n",
       " 'habit_alternatives',\n",
       " 'habit_alternatives',\n",
       " 'habit_alternatives',\n",
       " 'insert_journal',\n",
       " 'insert_journal',\n",
       " 'insert_journal',\n",
       " 'insert_journal',\n",
       " 'insert_journal',\n",
       " 'insert_journal',\n",
       " 'insert_journal',\n",
       " 'insert_journal',\n",
       " 'insert_journal',\n",
       " 'insert_journal',\n",
       " 'delete_journal',\n",
       " 'delete_journal',\n",
       " 'delete_journal',\n",
       " 'delete_journal',\n",
       " 'delete_journal',\n",
       " 'delete_journal',\n",
       " 'delete_journal',\n",
       " 'delete_journal',\n",
       " 'delete_journal',\n",
       " 'delete_journal',\n",
       " 'update_journal',\n",
       " 'update_journal',\n",
       " 'update_journal',\n",
       " 'update_journal',\n",
       " 'update_journal',\n",
       " 'update_journal',\n",
       " 'update_journal',\n",
       " 'update_journal',\n",
       " 'update_journal',\n",
       " 'update_journal',\n",
       " 'view_journal',\n",
       " 'view_journal',\n",
       " 'view_journal',\n",
       " 'view_journal',\n",
       " 'view_journal',\n",
       " 'view_journal',\n",
       " 'view_journal',\n",
       " 'view_journal',\n",
       " 'view_journal',\n",
       " 'view_journal',\n",
       " 'insert_mood',\n",
       " 'insert_mood',\n",
       " 'insert_mood',\n",
       " 'insert_mood',\n",
       " 'insert_mood',\n",
       " 'insert_mood',\n",
       " 'insert_mood',\n",
       " 'insert_mood',\n",
       " 'insert_mood',\n",
       " 'insert_mood',\n",
       " 'delete_mood',\n",
       " 'delete_mood',\n",
       " 'delete_mood',\n",
       " 'delete_mood',\n",
       " 'delete_mood',\n",
       " 'delete_mood',\n",
       " 'delete_mood',\n",
       " 'delete_mood',\n",
       " 'delete_mood',\n",
       " 'delete_mood',\n",
       " 'update_mood',\n",
       " 'update_mood',\n",
       " 'update_mood',\n",
       " 'update_mood',\n",
       " 'update_mood',\n",
       " 'update_mood',\n",
       " 'update_mood',\n",
       " 'update_mood',\n",
       " 'update_mood',\n",
       " 'update_mood',\n",
       " 'view_mood',\n",
       " 'view_mood',\n",
       " 'view_mood',\n",
       " 'view_mood',\n",
       " 'view_mood',\n",
       " 'view_mood',\n",
       " 'view_mood',\n",
       " 'view_mood',\n",
       " 'view_mood',\n",
       " 'view_mood',\n",
       " 'insert_gratitude',\n",
       " 'insert_gratitude',\n",
       " 'insert_gratitude',\n",
       " 'insert_gratitude',\n",
       " 'insert_gratitude',\n",
       " 'insert_gratitude',\n",
       " 'insert_gratitude',\n",
       " 'insert_gratitude',\n",
       " 'insert_gratitude',\n",
       " 'insert_gratitude',\n",
       " 'ask_missionvalues',\n",
       " 'ask_missionvalues',\n",
       " 'ask_missionvalues',\n",
       " 'ask_missionvalues',\n",
       " 'ask_missionvalues',\n",
       " 'ask_missionvalues',\n",
       " 'ask_missionvalues',\n",
       " 'ask_missionvalues',\n",
       " 'ask_missionvalues',\n",
       " 'ask_missionvalues',\n",
       " 'ask_features',\n",
       " 'ask_features',\n",
       " 'ask_features',\n",
       " 'ask_features',\n",
       " 'ask_features',\n",
       " 'ask_features',\n",
       " 'ask_features',\n",
       " 'ask_features',\n",
       " 'ask_features',\n",
       " 'ask_features',\n",
       " 'review_user_memory',\n",
       " 'review_user_memory',\n",
       " 'review_user_memory',\n",
       " 'review_user_memory',\n",
       " 'review_user_memory',\n",
       " 'review_user_memory',\n",
       " 'review_user_memory',\n",
       " 'review_user_memory',\n",
       " 'review_user_memory',\n",
       " 'review_user_memory',\n",
       " 'chat_about_journal',\n",
       " 'chat_about_journal',\n",
       " 'chat_about_journal',\n",
       " 'chat_about_journal',\n",
       " 'chat_about_journal',\n",
       " 'chat_about_journal',\n",
       " 'chat_about_journal',\n",
       " 'chat_about_journal',\n",
       " 'chat_about_journal',\n",
       " 'chat_about_journal',\n",
       " 'None',\n",
       " 'None',\n",
       " 'None',\n",
       " 'None',\n",
       " 'None']"
      ]
     },
     "execution_count": 3,
     "metadata": {},
     "output_type": "execute_result"
    }
   ],
   "source": [
    "y_syn"
   ]
  },
  {
   "cell_type": "code",
   "execution_count": 4,
   "metadata": {},
   "outputs": [],
   "source": [
    "from sklearn.model_selection import train_test_split\n",
    "\n",
    "# Split the dataset with stratification\n",
    "X_train, X_test, y_train, y_test = train_test_split(\n",
    "    X_syn, y_syn, test_size=0.2, random_state=0\n",
    ")"
   ]
  },
  {
   "cell_type": "code",
   "execution_count": 5,
   "metadata": {},
   "outputs": [],
   "source": [
    "# Replace \"None\" with None\n",
    "y_train = [None if i == \"None\" else i for i in y_train]\n",
    "y_test = [None if i == \"None\" else i for i in y_test]"
   ]
  },
  {
   "cell_type": "code",
   "execution_count": 6,
   "metadata": {},
   "outputs": [],
   "source": [
    "# Initialize lists for each intention\n",
    "find_therapist_messages = []\n",
    "find_support_group_messages = []\n",
    "find_hotline_messages = []\n",
    "habit_alternatives_messages = []\n",
    "insert_mood_messages = []\n",
    "insert_journal_messages = []\n",
    "insert_gratitude_messages = []\n",
    "ask_missionvalues_messages = []\n",
    "ask_features_messages = []\n",
    "review_user_memory_messages = []\n",
    "update_journal_messages = []\n",
    "update_mood_messages = []\n",
    "view_journal_messages = []\n",
    "view_mood_messages = []\n",
    "delete_journal_messages = []\n",
    "delete_mood_messages = []\n",
    "chat_about_journal_messages = []\n",
    "gratitude_messages = []\n",
    "\n",
    "# Categorize messages based on labels\n",
    "for message, label in zip(X_train[\"Message\"], y_train):\n",
    "    if label == \"find_therapist\":\n",
    "        find_therapist_messages.append(message)\n",
    "    elif label == \"find_support_group\":\n",
    "        find_support_group_messages.append(message)\n",
    "    elif label == \"find_hotline\":\n",
    "        find_hotline_messages.append(message)\n",
    "    elif label == \"habit_alternatives\":\n",
    "        habit_alternatives_messages.append(message)\n",
    "    elif label == \"insert_mood\":\n",
    "        insert_mood_messages.append(message)\n",
    "    elif label == \"insert_journal\":\n",
    "        insert_journal_messages.append(message)\n",
    "    elif label == \"insert_gratitude\":\n",
    "        insert_gratitude_messages.append(message)\n",
    "    elif label == \"ask_missionvalues\":\n",
    "        ask_missionvalues_messages.append(message)\n",
    "    elif label == \"ask_features\":\n",
    "        ask_features_messages.append(message)\n",
    "    elif label == \"review_user_memory\":\n",
    "        review_user_memory_messages.append(message)\n",
    "    elif label == \"update_journal\":\n",
    "        update_journal_messages.append(message)\n",
    "    elif label == \"update_mood\":\n",
    "        update_mood_messages.append(message)\n",
    "    elif label == \"view_journal\":\n",
    "        view_journal_messages.append(message)\n",
    "    elif label == \"view_mood\":\n",
    "        view_mood_messages.append(message)\n",
    "    elif label == \"delete_journal\":\n",
    "        delete_journal_messages.append(message)\n",
    "    elif label == \"delete_mood\":\n",
    "        delete_mood_messages.append(message)\n",
    "    elif label == \"chat_about_journal\":\n",
    "        chat_about_journal_messages.append(message)\n",
    "    elif label == \"entry_gratitude\":\n",
    "        gratitude_messages.append(message)    \n",
    "\n",
    "# Define routes for each intention\n",
    "find_therapist = Route(\n",
    "    name=\"find_therapist\",\n",
    "    description=\"The user wants to receive a personalized recommendation for a healthcare professional.\",\n",
    "    utterances=find_therapist_messages,\n",
    ")\n",
    "\n",
    "find_support_group = Route(\n",
    "    name=\"find_support_group\",\n",
    "    description=\"The user wants to find support groups in their vicinity.\",\n",
    "    utterances=find_support_group_messages,\n",
    ")\n",
    "\n",
    "find_hotline = Route(\n",
    "    name=\"find_hotline\",\n",
    "    description=\"The user wants to access the contact information for emergency or non-emergency hotlines.\",\n",
    "    utterances=find_hotline_messages,\n",
    ")\n",
    "\n",
    "habit_alternatives = Route(\n",
    "    name=\"habit_alternatives\",\n",
    "    description=\"The user wants to find a healthier or more sustainable alternative to a habit they currently have.\",\n",
    "    utterances=habit_alternatives_messages,\n",
    ")\n",
    "\n",
    "insert_mood = Route(\n",
    "    name=\"insert_mood\",\n",
    "    description=\"The user wants to record their thoughts, feelings, or reflections by making an entry in their journal or mood board.\",\n",
    "    utterances=insert_mood_messages,\n",
    ")\n",
    "\n",
    "insert_journal = Route(\n",
    "    name=\"insert_journal\",\n",
    "    description=\"The user wants to contribute a message of gratitude or positivity to the community gratitude banner.\",\n",
    "    utterances=insert_journal_messages,\n",
    ")\n",
    "\n",
    "insert_gratitude = Route(\n",
    "    name=\"insert_gratitude\",\n",
    "    description=\"The user wants to contribute a message of gratitude or positivity to the community gratitude banner.\",\n",
    "    utterances=insert_gratitude_messages,\n",
    ")\n",
    "\n",
    "ask_missionvalues = Route(\n",
    "    name=\"ask_missionvalues\",\n",
    "    description=\"The user wants to learn about the mission, vision, and values of Squeak to Speak.\",\n",
    "    utterances=ask_missionvalues_messages,\n",
    ")\n",
    "\n",
    "ask_features = Route(\n",
    "    name=\"ask_features\",\n",
    "    description=\"The user wants an overview of the features and functionalities of Squeak to Speak.\",\n",
    "    utterances=ask_features_messages,\n",
    ")\n",
    "\n",
    "review_user_memory = Route(\n",
    "    name=\"review_user_memory\",\n",
    "    description=\"The user wants to review the data that Squeak to Speak has collected about them.\",\n",
    "    utterances=review_user_memory_messages,\n",
    ")\n",
    "\n",
    "update_journal = Route(\n",
    "    name=\"update_journal\",\n",
    "    description=\"The user wants to modify an existing entry in their journal or mood board.\",\n",
    "    utterances=update_journal_messages,\n",
    ")\n",
    "\n",
    "update_mood = Route(\n",
    "    name=\"update_mood\",\n",
    "    description=\"The user wants to modify an existing entry in their mood board.\",\n",
    "    utterances=update_mood_messages,\n",
    ")\n",
    "\n",
    "view_journal = Route(\n",
    "    name=\"view_journal\",\n",
    "    description=\"The user wants to view past entries in their journal.\",\n",
    "    utterances=view_journal_messages,\n",
    ")\n",
    "\n",
    "view_mood = Route(\n",
    "    name=\"view_mood\",\n",
    "    description=\"The user wants to view past entries in their mood board.\",\n",
    "    utterances=view_mood_messages,\n",
    ")\n",
    "\n",
    "delete_journal = Route(\n",
    "    name=\"delete_journal\",\n",
    "    description=\"The user wants to delete an existing entry in their journal.\",\n",
    "    utterances=delete_journal_messages,\n",
    ")\n",
    "\n",
    "delete_mood = Route(\n",
    "    name=\"delete_mood\",\n",
    "    description=\"The user wants to delete an existing entry in their mood board.\",\n",
    "    utterances=delete_mood_messages,\n",
    ")\n",
    "\n",
    "chat_about_journal = Route(\n",
    "    name=\"chat_about_journal\",\n",
    "    description=\"The user wants to engage in a conversation with the chatbot, leveraging the knowledge of their past journal entries.\",\n",
    "    utterances=chat_about_journal_messages,\n",
    ")"
   ]
  },
  {
   "cell_type": "code",
   "execution_count": 7,
   "metadata": {},
   "outputs": [],
   "source": [
    "routes = [\n",
    "    review_user_memory,\n",
    "    find_therapist,\n",
    "    find_support_group,\n",
    "    find_hotline,\n",
    "    habit_alternatives,\n",
    "    insert_mood,\n",
    "    insert_journal,\n",
    "    insert_gratitude,\n",
    "    ask_missionvalues,\n",
    "    ask_features,\n",
    "    review_user_memory,\n",
    "    update_journal,\n",
    "    update_mood,\n",
    "    view_journal,\n",
    "    view_mood,\n",
    "    delete_journal,\n",
    "    delete_mood,\n",
    "    chat_about_journal\n",
    "]\n",
    "encoder = HuggingFaceEncoder()"
   ]
  },
  {
   "cell_type": "code",
   "execution_count": 8,
   "metadata": {},
   "outputs": [],
   "source": [
    "hf_rl = RouteLayer(encoder=encoder, routes=routes) #aggregation = \"mean\", \"max\" or \"sum\". #top_k = 5"
   ]
  },
  {
   "cell_type": "code",
   "execution_count": 9,
   "metadata": {},
   "outputs": [
    {
     "data": {
      "application/vnd.jupyter.widget-view+json": {
       "model_id": "111592c056334aa6be1ca0479304bf37",
       "version_major": 2,
       "version_minor": 0
      },
      "text/plain": [
       "Generating embeddings:   0%|          | 0/1 [00:00<?, ?it/s]"
      ]
     },
     "metadata": {},
     "output_type": "display_data"
    },
    {
     "data": {
      "application/vnd.jupyter.widget-view+json": {
       "model_id": "87ba5fff4f534cf18bfbfe330966e53a",
       "version_major": 2,
       "version_minor": 0
      },
      "text/plain": [
       "Training:   0%|          | 0/500 [00:00<?, ?it/s]"
      ]
     },
     "metadata": {},
     "output_type": "display_data"
    }
   ],
   "source": [
    "# Call the fit method\n",
    "hf_rl.fit(X=X_train[\"Message\"].to_list(), y=y_train, max_iter=500)"
   ]
  },
  {
   "cell_type": "code",
   "execution_count": 10,
   "metadata": {},
   "outputs": [
    {
     "data": {
      "application/vnd.jupyter.widget-view+json": {
       "model_id": "6ecab2d6af454e9d86839d7e5cdfbe82",
       "version_major": 2,
       "version_minor": 0
      },
      "text/plain": [
       "Generating embeddings:   0%|          | 0/1 [00:00<?, ?it/s]"
      ]
     },
     "metadata": {},
     "output_type": "display_data"
    },
    {
     "data": {
      "application/vnd.jupyter.widget-view+json": {
       "model_id": "e9b5edea75884e72bc31cbb36cff9050",
       "version_major": 2,
       "version_minor": 0
      },
      "text/plain": [
       "Generating embeddings:   0%|          | 0/1 [00:00<?, ?it/s]"
      ]
     },
     "metadata": {},
     "output_type": "display_data"
    },
    {
     "data": {
      "application/vnd.jupyter.widget-view+json": {
       "model_id": "b04f5358bb264d46a5793461f08899df",
       "version_major": 2,
       "version_minor": 0
      },
      "text/plain": [
       "Generating embeddings:   0%|          | 0/1 [00:00<?, ?it/s]"
      ]
     },
     "metadata": {},
     "output_type": "display_data"
    },
    {
     "data": {
      "application/vnd.jupyter.widget-view+json": {
       "model_id": "417f43d176764287b6fa5d29b0212466",
       "version_major": 2,
       "version_minor": 0
      },
      "text/plain": [
       "Generating embeddings:   0%|          | 0/1 [00:00<?, ?it/s]"
      ]
     },
     "metadata": {},
     "output_type": "display_data"
    },
    {
     "data": {
      "application/vnd.jupyter.widget-view+json": {
       "model_id": "57cdd512bd674b9f884ad69f245ad832",
       "version_major": 2,
       "version_minor": 0
      },
      "text/plain": [
       "Generating embeddings:   0%|          | 0/1 [00:00<?, ?it/s]"
      ]
     },
     "metadata": {},
     "output_type": "display_data"
    },
    {
     "data": {
      "application/vnd.jupyter.widget-view+json": {
       "model_id": "f95eab5a7d9e4888b524eae40bb15ab8",
       "version_major": 2,
       "version_minor": 0
      },
      "text/plain": [
       "Generating embeddings:   0%|          | 0/1 [00:00<?, ?it/s]"
      ]
     },
     "metadata": {},
     "output_type": "display_data"
    },
    {
     "data": {
      "application/vnd.jupyter.widget-view+json": {
       "model_id": "5c1a8b214dee4b95b3a5926e70db59a8",
       "version_major": 2,
       "version_minor": 0
      },
      "text/plain": [
       "Generating embeddings:   0%|          | 0/1 [00:00<?, ?it/s]"
      ]
     },
     "metadata": {},
     "output_type": "display_data"
    },
    {
     "data": {
      "application/vnd.jupyter.widget-view+json": {
       "model_id": "23575eae6f4644aab7d4a8abb56482db",
       "version_major": 2,
       "version_minor": 0
      },
      "text/plain": [
       "Generating embeddings:   0%|          | 0/1 [00:00<?, ?it/s]"
      ]
     },
     "metadata": {},
     "output_type": "display_data"
    },
    {
     "data": {
      "application/vnd.jupyter.widget-view+json": {
       "model_id": "b6135165db274b9f9b2e083c6d2b78d1",
       "version_major": 2,
       "version_minor": 0
      },
      "text/plain": [
       "Generating embeddings:   0%|          | 0/1 [00:00<?, ?it/s]"
      ]
     },
     "metadata": {},
     "output_type": "display_data"
    },
    {
     "data": {
      "application/vnd.jupyter.widget-view+json": {
       "model_id": "d1fdee8c13604a3aae260db1a33540bd",
       "version_major": 2,
       "version_minor": 0
      },
      "text/plain": [
       "Generating embeddings:   0%|          | 0/1 [00:00<?, ?it/s]"
      ]
     },
     "metadata": {},
     "output_type": "display_data"
    },
    {
     "data": {
      "application/vnd.jupyter.widget-view+json": {
       "model_id": "ab71324ea14f4d928db57b270e8d68ba",
       "version_major": 2,
       "version_minor": 0
      },
      "text/plain": [
       "Generating embeddings:   0%|          | 0/1 [00:00<?, ?it/s]"
      ]
     },
     "metadata": {},
     "output_type": "display_data"
    },
    {
     "data": {
      "application/vnd.jupyter.widget-view+json": {
       "model_id": "2ad793a43d2745cb90dcbd78a33ab6e6",
       "version_major": 2,
       "version_minor": 0
      },
      "text/plain": [
       "Generating embeddings:   0%|          | 0/1 [00:00<?, ?it/s]"
      ]
     },
     "metadata": {},
     "output_type": "display_data"
    },
    {
     "data": {
      "application/vnd.jupyter.widget-view+json": {
       "model_id": "570d055045b649f283faf0b4cb87baf7",
       "version_major": 2,
       "version_minor": 0
      },
      "text/plain": [
       "Generating embeddings:   0%|          | 0/1 [00:00<?, ?it/s]"
      ]
     },
     "metadata": {},
     "output_type": "display_data"
    },
    {
     "data": {
      "application/vnd.jupyter.widget-view+json": {
       "model_id": "060f94d2dc5d48bfa673b622a335177f",
       "version_major": 2,
       "version_minor": 0
      },
      "text/plain": [
       "Generating embeddings:   0%|          | 0/1 [00:00<?, ?it/s]"
      ]
     },
     "metadata": {},
     "output_type": "display_data"
    },
    {
     "data": {
      "application/vnd.jupyter.widget-view+json": {
       "model_id": "2b938281754d487d82afd45fb41d7b69",
       "version_major": 2,
       "version_minor": 0
      },
      "text/plain": [
       "Generating embeddings:   0%|          | 0/1 [00:00<?, ?it/s]"
      ]
     },
     "metadata": {},
     "output_type": "display_data"
    },
    {
     "data": {
      "application/vnd.jupyter.widget-view+json": {
       "model_id": "0261d6bcf5414aaa9480cfa65398da2e",
       "version_major": 2,
       "version_minor": 0
      },
      "text/plain": [
       "Generating embeddings:   0%|          | 0/1 [00:00<?, ?it/s]"
      ]
     },
     "metadata": {},
     "output_type": "display_data"
    },
    {
     "data": {
      "application/vnd.jupyter.widget-view+json": {
       "model_id": "8f15e2fcf11b45ed85df35ef2915ff34",
       "version_major": 2,
       "version_minor": 0
      },
      "text/plain": [
       "Generating embeddings:   0%|          | 0/1 [00:00<?, ?it/s]"
      ]
     },
     "metadata": {},
     "output_type": "display_data"
    },
    {
     "data": {
      "application/vnd.jupyter.widget-view+json": {
       "model_id": "10e749901f5f4f0fbdf3ab3eba011940",
       "version_major": 2,
       "version_minor": 0
      },
      "text/plain": [
       "Generating embeddings:   0%|          | 0/1 [00:00<?, ?it/s]"
      ]
     },
     "metadata": {},
     "output_type": "display_data"
    },
    {
     "data": {
      "application/vnd.jupyter.widget-view+json": {
       "model_id": "869f691342c94a93a7251f4fc8a4978c",
       "version_major": 2,
       "version_minor": 0
      },
      "text/plain": [
       "Generating embeddings:   0%|          | 0/1 [00:00<?, ?it/s]"
      ]
     },
     "metadata": {},
     "output_type": "display_data"
    },
    {
     "data": {
      "application/vnd.jupyter.widget-view+json": {
       "model_id": "ae149b800691430882afa2df3bd6e34f",
       "version_major": 2,
       "version_minor": 0
      },
      "text/plain": [
       "Generating embeddings:   0%|          | 0/1 [00:00<?, ?it/s]"
      ]
     },
     "metadata": {},
     "output_type": "display_data"
    },
    {
     "data": {
      "application/vnd.jupyter.widget-view+json": {
       "model_id": "f921083406ac4a2a8311a46cf150d6ba",
       "version_major": 2,
       "version_minor": 0
      },
      "text/plain": [
       "Generating embeddings:   0%|          | 0/1 [00:00<?, ?it/s]"
      ]
     },
     "metadata": {},
     "output_type": "display_data"
    },
    {
     "data": {
      "application/vnd.jupyter.widget-view+json": {
       "model_id": "dbce5a30c29d423e80e3adc02be3e8c0",
       "version_major": 2,
       "version_minor": 0
      },
      "text/plain": [
       "Generating embeddings:   0%|          | 0/1 [00:00<?, ?it/s]"
      ]
     },
     "metadata": {},
     "output_type": "display_data"
    },
    {
     "data": {
      "application/vnd.jupyter.widget-view+json": {
       "model_id": "03ac1acf010140448a60e3e129fea6e7",
       "version_major": 2,
       "version_minor": 0
      },
      "text/plain": [
       "Generating embeddings:   0%|          | 0/1 [00:00<?, ?it/s]"
      ]
     },
     "metadata": {},
     "output_type": "display_data"
    },
    {
     "data": {
      "application/vnd.jupyter.widget-view+json": {
       "model_id": "22bfc102db26482f9c027e7596d58f44",
       "version_major": 2,
       "version_minor": 0
      },
      "text/plain": [
       "Generating embeddings:   0%|          | 0/1 [00:00<?, ?it/s]"
      ]
     },
     "metadata": {},
     "output_type": "display_data"
    },
    {
     "data": {
      "application/vnd.jupyter.widget-view+json": {
       "model_id": "7669b80fa371410fa057357cd9871860",
       "version_major": 2,
       "version_minor": 0
      },
      "text/plain": [
       "Generating embeddings:   0%|          | 0/1 [00:00<?, ?it/s]"
      ]
     },
     "metadata": {},
     "output_type": "display_data"
    },
    {
     "data": {
      "application/vnd.jupyter.widget-view+json": {
       "model_id": "7c1ba48f9aa34269ba410799d4830826",
       "version_major": 2,
       "version_minor": 0
      },
      "text/plain": [
       "Generating embeddings:   0%|          | 0/1 [00:00<?, ?it/s]"
      ]
     },
     "metadata": {},
     "output_type": "display_data"
    },
    {
     "data": {
      "application/vnd.jupyter.widget-view+json": {
       "model_id": "b9403990e45d4378a73cc2629f865471",
       "version_major": 2,
       "version_minor": 0
      },
      "text/plain": [
       "Generating embeddings:   0%|          | 0/1 [00:00<?, ?it/s]"
      ]
     },
     "metadata": {},
     "output_type": "display_data"
    },
    {
     "data": {
      "application/vnd.jupyter.widget-view+json": {
       "model_id": "c140c6a0528c49a2b1c9f981a4b80256",
       "version_major": 2,
       "version_minor": 0
      },
      "text/plain": [
       "Generating embeddings:   0%|          | 0/1 [00:00<?, ?it/s]"
      ]
     },
     "metadata": {},
     "output_type": "display_data"
    },
    {
     "data": {
      "application/vnd.jupyter.widget-view+json": {
       "model_id": "f0fc6991ec0d46ab8c82090cd5afc926",
       "version_major": 2,
       "version_minor": 0
      },
      "text/plain": [
       "Generating embeddings:   0%|          | 0/1 [00:00<?, ?it/s]"
      ]
     },
     "metadata": {},
     "output_type": "display_data"
    },
    {
     "data": {
      "application/vnd.jupyter.widget-view+json": {
       "model_id": "aa93f254a1074af78284107f3914ae64",
       "version_major": 2,
       "version_minor": 0
      },
      "text/plain": [
       "Generating embeddings:   0%|          | 0/1 [00:00<?, ?it/s]"
      ]
     },
     "metadata": {},
     "output_type": "display_data"
    },
    {
     "data": {
      "application/vnd.jupyter.widget-view+json": {
       "model_id": "2e22e24197274d91bf36b5048890622c",
       "version_major": 2,
       "version_minor": 0
      },
      "text/plain": [
       "Generating embeddings:   0%|          | 0/1 [00:00<?, ?it/s]"
      ]
     },
     "metadata": {},
     "output_type": "display_data"
    },
    {
     "data": {
      "application/vnd.jupyter.widget-view+json": {
       "model_id": "486743043d9142ab897ee40565261967",
       "version_major": 2,
       "version_minor": 0
      },
      "text/plain": [
       "Generating embeddings:   0%|          | 0/1 [00:00<?, ?it/s]"
      ]
     },
     "metadata": {},
     "output_type": "display_data"
    },
    {
     "data": {
      "application/vnd.jupyter.widget-view+json": {
       "model_id": "2b5cb17f0dc1412c91565f3bfb3251c0",
       "version_major": 2,
       "version_minor": 0
      },
      "text/plain": [
       "Generating embeddings:   0%|          | 0/1 [00:00<?, ?it/s]"
      ]
     },
     "metadata": {},
     "output_type": "display_data"
    },
    {
     "data": {
      "application/vnd.jupyter.widget-view+json": {
       "model_id": "5f6d1b06f38848f5a306190f676c3a55",
       "version_major": 2,
       "version_minor": 0
      },
      "text/plain": [
       "Generating embeddings:   0%|          | 0/1 [00:00<?, ?it/s]"
      ]
     },
     "metadata": {},
     "output_type": "display_data"
    },
    {
     "data": {
      "application/vnd.jupyter.widget-view+json": {
       "model_id": "bcc5a34565a04b43b84d61235f2285c2",
       "version_major": 2,
       "version_minor": 0
      },
      "text/plain": [
       "Generating embeddings:   0%|          | 0/1 [00:00<?, ?it/s]"
      ]
     },
     "metadata": {},
     "output_type": "display_data"
    },
    {
     "name": "stdout",
     "output_type": "stream",
     "text": [
      "Intention                Test Inputs    Correct   Incorrect Accuracy (%)   \n",
      "delete_journal           4              4         0         100.0          \n",
      "review_user_memory       3              2         1         66.67          \n",
      "update_journal           4              4         0         100.0          \n",
      "insert_gratitude         3              3         0         100.0          \n",
      "update_mood              1              1         0         100.0          \n",
      "find_therapist           4              4         0         100.0          \n",
      "ask_missionvalues        3              3         0         100.0          \n",
      "insert_mood              1              1         0         100.0          \n",
      "ask_features             1              1         0         100.0          \n",
      "delete_mood              2              2         0         100.0          \n",
      "chat_about_journal       2              2         0         100.0          \n",
      "habit_alternatives       2              2         0         100.0          \n",
      "find_support_group       1              1         0         100.0          \n",
      "view_mood                2              0         2         0.0            \n",
      "find_hotline             1              1         0         100.0          \n",
      "insert_journal           1              1         0         100.0          \n",
      "Average Accuracy         35             32        3         91.43          \n"
     ]
    }
   ],
   "source": [
    "from collections import defaultdict\n",
    "\n",
    "\n",
    "# Initialize counters for each intention\n",
    "results = defaultdict(lambda: {\"Test Inputs\": 0, \"Correct\": 0, \"Incorrect\": 0})\n",
    "\n",
    "# Iterate through test data to manually evaluate predictions\n",
    "for message, true_label in zip(X_test[\"Message\"], y_test):\n",
    "    # Evaluate the single message to get the prediction\n",
    "    single_accuracy = hf_rl.evaluate(X=[message], y=[true_label])\n",
    "    \n",
    "    # Increment the total test inputs for the true label\n",
    "    results[true_label][\"Test Inputs\"] += 1\n",
    "    \n",
    "    # Increment correct or incorrect based on single message evaluation accuracy\n",
    "    if single_accuracy == 1.0:  # Perfect match means prediction was correct\n",
    "        results[true_label][\"Correct\"] += 1\n",
    "    else:\n",
    "        results[true_label][\"Incorrect\"] += 1\n",
    "\n",
    "# Calculate accuracy for each intention\n",
    "for intention, data in results.items():\n",
    "    data[\"Accuracy (%)\"] = round((data[\"Correct\"] / data[\"Test Inputs\"]) * 100, 2)\n",
    "\n",
    "# Display the results in table format\n",
    "print(f\"{'Intention':<25}{'Test Inputs':<15}{'Correct':<10}{'Incorrect':<10}{'Accuracy (%)':<15}\")\n",
    "for intention, data in results.items():\n",
    "    print(f\"{intention:<25}{data['Test Inputs']:<15}{data['Correct']:<10}{data['Incorrect']:<10}{data['Accuracy (%)']:<15}\")\n",
    "\n",
    "# Calculate overall accuracy\n",
    "total_inputs = sum(data[\"Test Inputs\"] for data in results.values())\n",
    "total_correct = sum(data[\"Correct\"] for data in results.values())\n",
    "overall_accuracy = round((total_correct / total_inputs) * 100, 2)\n",
    "\n",
    "print(f\"{'Average Accuracy':<25}{total_inputs:<15}{total_correct:<10}{total_inputs - total_correct:<10}{overall_accuracy:<15}\")\n",
    "\n"
   ]
  },
  {
   "cell_type": "code",
   "execution_count": 11,
   "metadata": {},
   "outputs": [
    {
     "name": "stderr",
     "output_type": "stream",
     "text": [
      "\u001b[32m2025-01-04 11:24:51 INFO semantic_router.utils.logger Saving route config to layer.json\u001b[0m\n"
     ]
    }
   ],
   "source": [
    "hf_rl.to_json(\"layer.json\")"
   ]
  }
 ],
 "metadata": {
  "kernelspec": {
   "display_name": "Python 3",
   "language": "python",
   "name": "python3"
  },
  "language_info": {
   "codemirror_mode": {
    "name": "ipython",
    "version": 3
   },
   "file_extension": ".py",
   "mimetype": "text/x-python",
   "name": "python",
   "nbconvert_exporter": "python",
   "pygments_lexer": "ipython3",
   "version": "3.10.11"
  }
 },
 "nbformat": 4,
 "nbformat_minor": 2
}
